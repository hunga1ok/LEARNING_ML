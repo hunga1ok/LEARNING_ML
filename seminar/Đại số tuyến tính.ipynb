{
 "cells": [
  {
   "attachments": {},
   "cell_type": "markdown",
   "metadata": {},
   "source": [
    "# Đại số tuyến tính"
   ]
  },
  {
   "attachments": {},
   "cell_type": "markdown",
   "metadata": {},
   "source": [
    "## 1.1 Số vô hướng\n",
    "Trong cuộc sống hàng ngày của chúng ta sẽ gặp rất nhiều số vô hướng (scalar). \n",
    "\n",
    "Giá trị của tiền thuê nhà mà bạn phải trả là một số vô hướng. Bạn vừa thực hiện một bài kiểm tra, bạn được 9 điểm thì điểm số này cũng là một số vô hướng...\n",
    "\n",
    "=> Tóm lại số vô hướng là một con số cụ thể. Số vô hướng sẽ khác với biến số vì biến số có thể nhận nhiều giá trị trong khi số vô hướng chỉ nhận một giá trị duy nhất. VD: khi giá nhà y theo diện tích x theo phương trình: y = 20x + 200 thì các số vô hướng là *20, 200*, và các biến là *x, y*\n",
    "\n",
    "Số vô hướng có thể được coi như hằng số trong một phương trình. Chúng ta có thể thực hiện các phép toán cộng/trừ/nhân/chia với số vô hướng như với hằng số"
   ]
  },
  {
   "cell_type": "code",
   "execution_count": 23,
   "metadata": {},
   "outputs": [
    {
     "name": "stdout",
     "output_type": "stream",
     "text": [
      "diện tích x = 50 --> giá nhà y = a*50+b =  1200\n"
     ]
    }
   ],
   "source": [
    "import numpy as np\n",
    "\n",
    "a = np.array(20)\n",
    "b = np.array(200)\n",
    "print(\"diện tích x = 50 --> giá nhà y = a*50+b = \", a*50+b)"
   ]
  },
  {
   "attachments": {},
   "cell_type": "markdown",
   "metadata": {},
   "source": [
    "## 1.2. Vector\n",
    "Vector là một khái niệm cơ bản nhất của toán học. Chúng ta có thể coi vector là một tập hợp nhiều giá trị của số vô hướng. \n",
    "\n",
    "Vector là một đại lượng biểu diễn cho cả độ lớn và hướng.\n",
    "\n",
    "Ví dụ một ngôi nhà có một số các thuộc tính như diện tích mặt sàn (100m2), số lượng phòng ngủ(3 pn), số lượng phòng tắm(2pt), và giá của nó(3tỷ)... từ đó ta có thể dùng vector để biểu diễn chúng:\n",
    "[100, 3, 2, 3]. Ngoài ra vector cũng có thể được sử dụng để thể hiện cho sự thay đổi của một thuộc tính riêng.\n",
    "\n",
    "$$\\begin{split}\\mathbf{x}=\\begin{bmatrix} \n",
    "100\\\\ \n",
    "3\\\\ \n",
    "2\\\\ \n",
    "3\\\\ \n",
    "\\end{bmatrix}.\\end{split}$$"
   ]
  },
  {
   "cell_type": "code",
   "execution_count": 24,
   "metadata": {},
   "outputs": [
    {
     "data": {
      "text/plain": [
       "array([100.,   3.,   2.,   3.])"
      ]
     },
     "execution_count": 24,
     "metadata": {},
     "output_type": "execute_result"
    }
   ],
   "source": [
    "x = np.array([100.0, 3, 2, 3])\n",
    "x"
   ]
  },
  {
   "attachments": {},
   "cell_type": "markdown",
   "metadata": {},
   "source": [
    "### 1.2.1 Các thuộc tính của vector\n",
    "Một vector sẽ có độ dài và định dạng dữ liệu xác định. Ngoài ra nếu coi một biến số là một vector thì trong thông kê mô tả chúng sẽ quan tâm tới tổng, trung bình, phương sai, giá trị lớn nhất, nhỏ nhất..."
   ]
  },
  {
   "attachments": {},
   "cell_type": "markdown",
   "metadata": {},
   "source": [
    "$$sum = \\begin{split}\\sum_{i=1}^{n}x_i\\end{split}$$\n",
    "\n",
    "$$mean = \\begin{split}\\frac{1}{n}\\sum_{i=1}^{n}x_i\\end{split}$$\n",
    "\n",
    "$$variance = \\begin{split}\\frac{1}{n}\\sum_{i=1}^{n}(x_i - mean)^2\\end{split}$$\n"
   ]
  },
  {
   "cell_type": "code",
   "execution_count": 25,
   "metadata": {},
   "outputs": [
    {
     "name": "stdout",
     "output_type": "stream",
     "text": [
      "length of vector:  (4,)\n",
      "vector type:  float64\n",
      "sum of vector:  108.0\n",
      "mean of vector:  27.0\n",
      "min of vector:  2.0\n",
      "max of vector:  100.0\n"
     ]
    }
   ],
   "source": [
    "# Độ dài\n",
    "print(\"length of vector: \", x.shape) # or len(x)\n",
    "\n",
    "# Định dạng của véc tơ\n",
    "print(\"vector type: \", x.dtype)\n",
    "\n",
    "# Tổng của các phần tử \n",
    "print(\"sum of vector: \", x.sum())\n",
    "\n",
    "# Trung bình các phần tử\n",
    "print(\"mean of vector: \", x.mean())\n",
    "\n",
    "# Giá trị nhỏ nhất\n",
    "print(\"min of vector: \", x.min())\n",
    "\n",
    "# Giá trị lớn nhất\n",
    "print(\"max of vector: \", x.max())"
   ]
  },
  {
   "attachments": {},
   "cell_type": "markdown",
   "metadata": {},
   "source": [
    "### 1.2.2 các phép tính trên vector\n",
    "Chúng ta có thể thực hiện các phép tính trên vector như phép cộng, trừ, tích vô hướng, tích có hướng giữa hai vector... Lưu ý là chúng phải có cùng **độ dài** và chúng có tính chất **giao hoán**."
   ]
  },
  {
   "attachments": {},
   "cell_type": "markdown",
   "metadata": {},
   "source": [
    "Phép cộng hai vector\n",
    "\n",
    "<img src=\"http://suretest.vn/FileUpload/12/Editor/Images/hh10.b2.01.png\" width=\"500\"/>"
   ]
  },
  {
   "cell_type": "code",
   "execution_count": 3,
   "metadata": {},
   "outputs": [
    {
     "name": "stdout",
     "output_type": "stream",
     "text": [
      "x + y:  [160   5   3   5]\n",
      "x - y:  [40  1  1  1]\n",
      "x . y:  6014\n",
      "x@y:  [6000    6    2    6]\n"
     ]
    }
   ],
   "source": [
    "import numpy as np\n",
    "x = np.array([100, 3, 2, 3])\n",
    "y = np.array([60, 2, 1, 2])\n",
    "print(\"x + y: \", x + y)\n",
    "print(\"x - y: \", x - y)\n",
    "# tích vô hướng giữa hai vector\n",
    "print(\"x . y: \", x.dot(y))"
   ]
  },
  {
   "attachments": {},
   "cell_type": "markdown",
   "metadata": {},
   "source": [
    "Véc tơ có thể thực hiện các phép cộng, trừ, nhân, chia với một số vô hướng."
   ]
  },
  {
   "cell_type": "code",
   "execution_count": 27,
   "metadata": {},
   "outputs": [
    {
     "name": "stdout",
     "output_type": "stream",
     "text": [
      "x + 5:  [6.  7.  6.5 6.8 6.9]\n",
      "x - 5:  [-4.  -3.  -3.5 -3.2 -3.1]\n",
      "x * 5:  [ 5.  10.   7.5  9.   9.5]\n"
     ]
    }
   ],
   "source": [
    "x = np.array([1, 2, 1.5, 1.8, 1.9])\n",
    "print(\"x + 5: \", x + 5)\n",
    "print(\"x - 5: \", x - 5)\n",
    "print(\"x * 5: \", x * 5)"
   ]
  },
  {
   "attachments": {},
   "cell_type": "markdown",
   "metadata": {},
   "source": [
    "### 1.2.3. Các phép tính nâng cao\n",
    "* **Module** của một vector là giá trị thể hiện độ lớn của vector đó. \n",
    "\n",
    "<img src=\"http://minhhn.com/wp-content/uploads/2019/05/minh-hoang-blog-magnitude-vector-pythagoras.png\" alt=\"Module một vector\" width=\"500\">\n",
    "\n",
    "Nó có thể được tính bằng công thức sau:\n",
    "\n",
    "$$||\\vec{v}|| = \\sqrt{\\sum_{i=1}^{n} v_i^2}$$\n",
    "\n",
    "Trong đó, $||\\vec{v}||$ là module của vector $\\vec{v}$ = $(v_1, v_2, ..., v_n)$ và n là số chiều của vector.\n",
    "Công thức trên là tính khoảng cách của vector v từ gốc tọa độ về điểm trên vector tương đương với độ dài của vector."
   ]
  },
  {
   "cell_type": "code",
   "execution_count": 4,
   "metadata": {},
   "outputs": [
    {
     "name": "stdout",
     "output_type": "stream",
     "text": [
      "5.0\n"
     ]
    }
   ],
   "source": [
    "x = np.array([3, 4])\n",
    "module = np.linalg.norm(x)\n",
    "print(module)"
   ]
  },
  {
   "attachments": {},
   "cell_type": "markdown",
   "metadata": {},
   "source": [
    "* **Nhân vô hướng (scalar product)** của hai vector A và B, được tính bằng cách nhân giá trị chiều dài của hai vector và góc giữa chúng. Kết quả của nhân vô hướng là một số thực.\n",
    "\n",
    "Có hai cách chính để tính nhân vô hướng:\n",
    "\n",
    "sử dụng công thức cộng sảnh: $\\vec{A} \\cdot \\vec{B} = |\\vec{A}|\\ |\\vec{B}| \\ \\cos(\\theta)$\n",
    "\n",
    "sử dụng dot product: $\\vec{A} \\cdot \\vec{B} = \\sum_{i=1}^n A_i B_i =A_1B_1 + A_2B_2 +....+ A_nB_n$\n",
    "\n",
    "Trong đó, $|\\vec{A}|$ và $|\\vec{B}|$ là module của vector A và B tương ứng, $\\theta$ là góc giữa hai vector, $A_i$ và $B_i$ là các phần tử của vector A và B tương ứng, và n là số chiều của hai vector.\n"
   ]
  },
  {
   "cell_type": "code",
   "execution_count": 48,
   "metadata": {},
   "outputs": [
    {
     "name": "stdout",
     "output_type": "stream",
     "text": [
      "x.dot(y) =  0\n",
      "np.dot(x, y) =  0\n",
      "0.5\n"
     ]
    }
   ],
   "source": [
    "x = np.array([0,0,1])\n",
    "y = np.array([1,0,0])\n",
    "print(\"x.dot(y) = \", x.dot(y))\n",
    "print(\"np.dot(x, y) = \", np.dot(x, y))\n",
    "\n",
    "cosxy = x.dot(y)/(np.linalg.norm(x) * np.linalg.norm(y))\n",
    "print(np.arccos(cosxy)/np.pi)\n"
   ]
  },
  {
   "attachments": {},
   "cell_type": "markdown",
   "metadata": {},
   "source": [
    "* **Công thức Cosine** Là cosine góc giữa của hai vector\n",
    "$$cosine(\\theta) = \\frac{\\vec{A} \\cdot \\vec{B}}{||\\vec{A}||\\ ||\\vec{B}||}$$"
   ]
  },
  {
   "attachments": {
    "image-2.png": {
     "image/png": "[encoded data removed]"
    }
   },
   "cell_type": "markdown",
   "metadata": {},
   "source": [
    "* **Vector Projection** là một khái niệm trong toán học để miêu tả sự chiếu của một vector A lên một vector B.\n",
    "\n",
    "![image.png](attachment:image-2.png)\n",
    "\n",
    "Công thức tính projection của vector A vào B là:\n",
    "\n",
    "$$proj_B(\\vec{A}) = \\frac{\\vec{A} \\cdot \\vec{B}}{||\\vec{B}||^2} * \\vec{B}$$\n",
    "\n",
    "\n"
   ]
  },
  {
   "attachments": {},
   "cell_type": "markdown",
   "metadata": {},
   "source": [
    "Vector projection có rất nhiều ứng dụng trong machine learning. Một trong những ứng dụng chính là trong việc giảm chiều dữ liệu (dimensionality reduction). Khi số chiều của dữ liệu quá cao, thì việc xử lý và huấn luyện mô hình trở nên khó khăn và tốn thời gian. Giảm chiều dữ liệu sẽ giúp giảm số chiều của dữ liệu mà không mất nhiều thông tin quan trọng."
   ]
  },
  {
   "attachments": {},
   "cell_type": "markdown",
   "metadata": {},
   "source": [
    "Có nhiều cách để tính projection trong numpy:"
   ]
  },
  {
   "cell_type": "code",
   "execution_count": 30,
   "metadata": {},
   "outputs": [],
   "source": [
    "import numpy as np\n",
    "\n",
    "def vector_projection(a, b):\n",
    "    # Tính tích vô hướng giữa hai vector\n",
    "    dot = np.dot(a, b)\n",
    "    # Tính độ dài của vector B\n",
    "    norm_b = np.linalg.norm(b)\n",
    "    # Tính projection của A lên B\n",
    "    projection = (dot / (norm_b ** 2)) * b\n",
    "    return projection\n",
    "\n",
    "def vector_projection_2(a, b):\n",
    "    # Tính projection của A lên B\n",
    "    projection = (np.inner(a,b)/np.inner(b,b)) * b\n",
    "    return projection\n",
    "\n",
    "def vector_projection_3(a, b):\n",
    "    # Tính projection của A lên B\n",
    "    projection = np.matmul(a,b)/np.matmul(b,b) * b\n",
    "    return projection\n"
   ]
  },
  {
   "cell_type": "code",
   "execution_count": 49,
   "metadata": {},
   "outputs": [
    {
     "name": "stdout",
     "output_type": "stream",
     "text": [
      "[0. 0. 1.]\n",
      "[0. 0. 1.]\n",
      "[0. 0. 1.]\n"
     ]
    }
   ],
   "source": [
    "\n",
    "\n",
    "a = np.array([1, 1, 1])\n",
    "b = np.array([0, 0, 1])\n",
    "\n",
    "p1 = vector_projection(a, b)\n",
    "p2 = vector_projection_2(a, b)\n",
    "p3 = vector_projection_3(a, b)\n",
    "print(p1)\n",
    "print(p2)\n",
    "print(p3)"
   ]
  },
  {
   "attachments": {},
   "cell_type": "markdown",
   "metadata": {},
   "source": [
    "### **1.2.4. Hệ toạ độ cơ sở**\n"
   ]
  },
  {
   "attachments": {},
   "cell_type": "markdown",
   "metadata": {},
   "source": [
    "#### 1.2.4.1. Tổ hợp tuyến tính và không gian sinh\n",
    "\n",
    "- **Thế nào là một tổ hợp tuyến tính?**\n",
    "\n",
    "Giả sử $\\mathbf{a}_1, \\mathbf{a}_2, \\dots, \\mathbf{a}_n$ là các véc tơ thuộc không gian $\\mathbb{R}^m$ và $k_1, k_2, \\dots, k_n$ là những số vô hướng. Khi đó _tổ hợp tuyến tính_ (_linear combination_) của $n$ véc tơ $\\mathbf{a}_1, \\mathbf{a}_2, \\dots, \\mathbf{a}_n$ tương ứng với các hệ số $k_i$ là một véc tơ được tính theo phương trình tuyến tính dạng:\n",
    "\n",
    "$$k_1 \\mathbf{a}_1 + k_2 \\mathbf{a}_2 + \\dots + k_n \\mathbf{a}_n = \\mathbf{b} \\tag{1}$$\n",
    "\n",
    "Nếu xét ma trận $\\mathbf{A} = [\\mathbf{a}_1, \\mathbf{a}_2 \\dots ,\\mathbf{a}_n] \\in \\mathbb{R}^{m \\times n}$ có các cột là những véc tơ $\\mathbf{a}_i \\in \\mathbb{R}^{m}$. Khi đó tổ hợp tuyến tính có thể biểu diễn dưới dạng một phép nhân ma trận với véc tơ:\n",
    "\n",
    "$$\\mathbf{A}\\mathbf{k} = \\mathbf{b}$$\n",
    "\n",
    "Lưu ý rằng biểu diễn tổ hợp tuyến tính đối với véc tơ $\\mathbf{b}$ có thể là không duy nhất. Tập hợp tất cả các véc tơ $\\mathbf{b}$ trong phương trình $(1)$ ở trên được gọi là _không gian sinh_ (_span space_) của hệ véc tơ $\\{\\mathbf{a}_1, \\mathbf{a}_2, \\dots, \\mathbf{a}_n\\}$, kí hiệu $\\text{span}(\\mathbf{a}_1, \\dots, \\mathbf{a}_n)$\n"
   ]
  },
  {
   "attachments": {},
   "cell_type": "markdown",
   "metadata": {},
   "source": [
    "- **Hệ véc tơ độc lập tuyến tính là gì?**\n",
    "\n",
    "Một hệ véc tơ $\\{\\mathbf{a}_1, \\mathbf{a}_2, \\dots, \\mathbf{a}_n\\}$ gồm các véc tơ khác 0 là độc lập tuyến tính nếu phương trình:\n",
    "\n",
    "$$k_1 \\mathbf{a}_1 + k_2 \\mathbf{a}_2 + \\dots + k_n \\mathbf{a}_n = 0  \\tag{2}$$\n",
    "\n",
    "có một nghiệm duy nhất là $k_1 = k_2 = \\dots = k_n = 0$\n",
    "\n",
    "Trái lại, nếu tồn tại một nghiệm mà phần tử $k_j \\neq 0$ thì hệ véc tơ là _phụ thuộc tuyến tính_.\n",
    "\n",
    "- **Một số tính chất của tổ hợp tuyến tính**\n",
    "\n",
    "1-. Một hệ véc tơ là phụ thuộc tuyến tính khi và chỉ khi tồn tại một véc tơ trong hệ là tổ hợp tuyến tính của những véc tơ còn lại. Thật vậy, giả sử hệ véc tơ là phụ thuộc tuyến tính, khi đó tồn tại một phần tử $k_j \\neq 0$ sao cho phương trình $(2)$ được thoả mãn. Khi đó:\n",
    "\n",
    "$$\\mathbf{a}_j = \\frac{-k_1}{k_j} \\mathbf{a}_1 + \\dots + \\frac{-k_{j-1}}{k_{j}} \\mathbf{a}_{j-1}+ \\frac{-k_{j+1}}{k_j} \\mathbf{a}_{j+1}+ \\dots +\\frac{-k_n}{k_j} \\mathbf{a}_n \\tag{3}$$\n",
    "\n",
    "Như vậy $\\mathbf{a}_{j}$ là tổ hợp tuyến tính của những véc tơ còn lại. Trong trường hợp phương trình $(3)$ được thoả mãn thì ta cũng suy ra được phương trình $(2)$ có nghiệm $k_j \\neq 0$ và hệ véc tơ là _phụ thuộc tuyến tính_.\n",
    "\n",
    "2-. Tập con khác rỗng của một hệ véc tơ độc lập tuyến tính là một hệ độc lập tuyến tính.\n",
    "\n",
    "3-. Tập hợp các dòng hoặc cột của một ma trận khả nghịch sẽ tạo thành một hệ các véc tơ độc lập tuyến tính.\n",
    "\n",
    "4-. Nếu $\\mathbf{A}$ là một ma trận cao chiều, tức số hàng lớn hơn số cột thì tồn tại véc tơ $\\mathbf{b}$ sao cho $\\mathbf{A}\\mathbf{x} = \\mathbf{b}$ vô nghiệm.\n",
    "\n",
    "5-. Nếu $n > m$ thì $n$ véc tơ bất kì trong không gian $m$ chiều tạo thành một hệ véc tơ phụ thuộc tuyến tính."
   ]
  },
  {
   "attachments": {},
   "cell_type": "markdown",
   "metadata": {},
   "source": [
    "#### 1.2.4.2. Cơ sở của một không gian\n",
    "Một hệ các véc tơ $\\{\\mathbf{a}_1, \\mathbf{a}_2, \\dots, \\mathbf{a}_n \\}$ trong không gian véc tơ $m$ chiều, kí hiệu là $V = \\mathbb{R}^{m}$ được gọi là một cơ sở (_basic_) nếu như điều kiện kiện sau được thoả mãn:\n",
    "\n",
    "1. $V \\equiv \\text{span}(\\mathbf{a}_1, \\dots, \\mathbf{a}_n)$\n",
    "\n",
    "2. ${\\mathbf{a}_1, \\mathbf{a}_2, \\dots, \\mathbf{a}_n}$ là một hệ véc tơ độc lập tuyến tính.\n",
    "\n",
    "Mỗi một véc tơ đều có một biểu diễn duy nhất dưới dạng một tổ hợp tuyển tính của những véc tơ của các $\\mathbf{a}_i$.\n",
    "\n",
    "Ví dụ, trong không gian $R^3$, một cơ sở thông dụng là cơ sở địa phương, bao gồm các vector cơ bản (1,0,0), (0,1,0), (0,0,1), mà mỗi vector cơ bản biểu diễn cho một chiều trong không gian."
   ]
  },
  {
   "attachments": {},
   "cell_type": "markdown",
   "metadata": {},
   "source": [
    "#### 1.2.4.3. Biến đổi hệ cơ sở của véc tơ\n",
    "\n",
    "Trong không gian $m$ chiều thì mọi véc tơ đều có thể biểu diễn thông qua hệ véc tơ đơn vị $(\\mathbf{e}_1, \\mathbf{e}_2, \\dots , \\mathbf{e}_m)$. Trong đó véc tơ $\\mathbf{e}_i$ được gọi là véc tơ đơn vị có phần tử thứ $i$ là 1, các phần tử còn lại bằng 0.\n",
    "\n",
    "Bản chất của một phép nhân ma trận với một véc tơ là một phép biến đổi hệ cơ sở mà ở đó mỗi một cột của ma trận được xem như một véc tơ cơ sở. Giả sử ma trận $\\mathbf{A} \\in \\mathbb{R}^{m \\times n}$ nhân với véc tơ $\\mathbf{x}\\in \\mathbb{R}^{n}$.\n",
    "\n",
    "$$\\mathbf{A} \\mathbf{x} = \\mathbf{a}^{(1)} x_1 + \\mathbf{a}^{(2)} x_2 + \\dots + \\mathbf{a}^{(m)}  x_m = \\mathbf{y}$$\n",
    "\n",
    "Trong đó $\\mathbf{a}^{(i)}$ có thể được xem như là một véc tơ cột thứ $i$ của ma trận $\\mathbf{A}$. Ta có thể xem như véc tơ $\\mathbf{y}$ được biểu diễn thông qua các véc tơ cơ sở cột mà toạ độ tương ứng với mỗi chiều trong hệ cơ sở là các $x_i$."
   ]
  },
  {
   "attachments": {},
   "cell_type": "markdown",
   "metadata": {},
   "source": [
    "## **1.3. Ma trận**\n",
    "\n",
    "Ma trận (Matrix) là một cấu trúc dữ liệu quan trọng trong đại số tuyến tính, nó là một bảng số các số thực hoặc phức.\n",
    "\n",
    "Ma trận A có kích thước m x n có thể được biểu diễn bằng công thức sau:\n",
    "\n",
    "$$\\begin{split}\\mathbf{A}=\\begin{bmatrix} \n",
    "a_{11} & a_{12} & \\cdots & a_{1n} \\\\ \n",
    "a_{21} & a_{22} & \\cdots & a_{2n} \\\\ \n",
    "\\vdots & \\vdots & \\ddots & \\vdots \\\\ \n",
    "a_{m1} & a_{m2} & \\cdots & a_{mn} \\\\ \n",
    "\\end{bmatrix}.\\end{split}$$\n",
    "\n",
    "Trong đó, $a_{ij}$ là phần tử thứ i trong hàng và thứ j trong cột của ma trận A.\n",
    "\n",
    "Ma trận có rất nhiều ứng dụng trong toán học và khoa học máy tính, nó được sử dụng để mô tả quan hệ giữa các biến số, tính toán các hàm số, và giải các phương trình hệ phương trình."
   ]
  },
  {
   "cell_type": "code",
   "execution_count": 32,
   "metadata": {},
   "outputs": [
    {
     "data": {
      "text/plain": [
       "array([[100, 120,  80,  90, 105,  95],\n",
       "       [  2,   3,   2,   2,   3,   2]])"
      ]
     },
     "execution_count": 32,
     "metadata": {},
     "output_type": "execute_result"
    }
   ],
   "source": [
    "import numpy as np\n",
    "\n",
    "X = np.array([[100, 120, 80, 90, 105, 95], \n",
    "              [2, 3, 2, 2, 3, 2]])\n",
    "              \n",
    "X"
   ]
  },
  {
   "attachments": {},
   "cell_type": "markdown",
   "metadata": {},
   "source": [
    "### 1.3.1. Các ma trận đặc biệt\n",
    "* **Ma trận vuông**: là ma trận có số dòng bằng số cột.  $\\mathbf{A} \\in \\mathbb{R}^{m \\times n}$ vuông nếu $m=n$. \n",
    "\n",
    "$$\\begin{split}\\mathbf{A}=\n",
    "\\begin{bmatrix} \n",
    "1 & 2 & 3 \\\\ \n",
    "4 & 5 & 6 \\\\ \n",
    "7 & 8 & 9 \n",
    "\\end{bmatrix}\n",
    "\\end{split}$$\n",
    "\n",
    "* **Ma trận đơn vị**: Là ma trận có đường chéo chính bằng 1, các phần tử còn lại bằng $0$. Ví dụ :\n",
    "\n",
    "$$\\begin{split}\\mathbf{I}_3=\n",
    "\\begin{bmatrix} \n",
    "1 & 0 & 0 \\\\ \n",
    "0 & 1 & 0 \\\\ \n",
    "0 & 0 & 1 \n",
    "\\end{bmatrix}\n",
    "\\end{split}$$\n",
    "\n",
    "* **Ma trận đường chéo**: Là ma trận có các phần tử trên đường chéo chính khác 0 và các phần tử còn lại bằng 0. Ví dụ về ma trận đường chéo:\n",
    "\n",
    "\n",
    "$$\\begin{split}\\mathbf{A}=\n",
    "\\begin{bmatrix} \n",
    "1 & 0 & 0 \\\\ \n",
    "0 & 2 & 0 \\\\ \n",
    "0 & 0 & 3 \n",
    "\\end{bmatrix}\n",
    "\\end{split}$$\n",
    "\n",
    "\n",
    "* **Ma trận chuyển vị**: $\\mathbf{B}$ là ma trận chuyển vị của $\\mathbf{A}$ nếu $b_{ij} = a_{ji}$ với mọi $i, j$. Dễ hiểu hơn, tức là mọi dòng của ma trận $A$ sẽ là cột của ma trận $\\mathbf{B}$. Ví dụ:\n",
    "\n",
    "$$\\begin{split}\\mathbf{A}=\n",
    "\\begin{bmatrix} \n",
    "1 & 2 & 3 \\\\ \n",
    "3 & 2 & 1\n",
    "\\end{bmatrix}\n",
    "\\end{split}, \\begin{split}\\mathbf{B}=\n",
    "\\begin{bmatrix} \n",
    "1 & 3 \\\\\n",
    "2 & 2 \\\\ \n",
    "3 & 1\\end{bmatrix}\n",
    "\\end{split}$$\n",
    "\n",
    "\n",
    "Ký hiệu chuyển vị của ma trận $\\mathbf{A}$ là $\\mathbf{A}^{\\intercal}$"
   ]
  },
  {
   "attachments": {},
   "cell_type": "markdown",
   "metadata": {},
   "source": [
    "### 1.3.2. Các thuộc tính của ma trận\n",
    "Một ma trận được đặc trưng bởi dòng và cột."
   ]
  },
  {
   "cell_type": "code",
   "execution_count": 33,
   "metadata": {},
   "outputs": [
    {
     "data": {
      "text/plain": [
       "(2, 3)"
      ]
     },
     "execution_count": 33,
     "metadata": {},
     "output_type": "execute_result"
    }
   ],
   "source": [
    "import numpy as np\n",
    "A = np.array([[1, 2, 3], \n",
    "              [3, 2, 1]])\n",
    "\n",
    "# shape của matrix A\n",
    "A.shape"
   ]
  },
  {
   "attachments": {},
   "cell_type": "markdown",
   "metadata": {},
   "source": [
    "### 1.3.3. Các phép tính trên ma trận\n",
    "Hai ma trận có cùng kích thước chúng ta có thể thực hiện các phép:\n",
    "\n",
    "- Cộng trừ hai ma trận: cho phép ta thực hiện phép cộng hoặc trừ hai ma trận cùng kích thước với nhau.\n",
    "\n",
    "<img src=\"https://wikimedia.org/api/rest_v1/media/math/render/svg/0fb7845af355c550d44020e52699069c044126a9\" width=\"400\" height=\"200\"/>"
   ]
  },
  {
   "cell_type": "code",
   "execution_count": 5,
   "metadata": {},
   "outputs": [
    {
     "name": "stdout",
     "output_type": "stream",
     "text": [
      "A-B: \n",
      " [[-1  1  1]\n",
      " [ 2 -1  1]]\n",
      "A+B: \n",
      " [[3 3 5]\n",
      " [4 5 1]]\n"
     ]
    }
   ],
   "source": [
    "import numpy as np\n",
    "A = np.array([[1, 2, 3], \n",
    "              [3, 2, 1]])\n",
    "\n",
    "B = np.array([[2, 1, 2], \n",
    "             [1, 3, 0]])\n",
    "\n",
    "print(\"A-B: \\n\", A-B)\n",
    "print(\"A+B: \\n\", A+B)"
   ]
  },
  {
   "attachments": {},
   "cell_type": "markdown",
   "metadata": {},
   "source": [
    "- Nhân ma trận với một số (scalar): cho phép ta nhân mỗi phần tử của ma trận với một số.\n",
    "\n",
    "<img src=\"https://wikimedia.org/api/rest_v1/media/math/render/svg/d3ec2571458bb0dafe87dc94b91d253a2018c29a\" width=\"400\" height=\"200\"/>\n",
    "\n",
    "- **Nhân ma trận với ma trận**:\n",
    "\n",
    "    - **Tích hadamard hoặc element-wise**\n",
    "\n",
    "$$\n",
    "\\begin{split}\\mathbf{A} \\odot \\mathbf{B} =\n",
    "\\begin{bmatrix}\n",
    "    a_{11}  b_{11} & a_{12}  b_{12} & \\dots  & a_{1n}  b_{1n} \\\\\n",
    "    a_{21}  b_{21} & a_{22}  b_{22} & \\dots  & a_{2n}  b_{2n} \\\\\n",
    "    \\vdots & \\vdots & \\ddots & \\vdots \\\\\n",
    "    a_{m1}  b_{m1} & a_{m2}  b_{m2} & \\dots  & a_{mn}  b_{mn}\n",
    "\\end{bmatrix}\\end{split}\n",
    "$$"
   ]
  },
  {
   "cell_type": "code",
   "execution_count": 6,
   "metadata": {},
   "outputs": [
    {
     "data": {
      "text/plain": [
       "array([[2, 2, 6],\n",
       "       [3, 6, 0]])"
      ]
     },
     "execution_count": 6,
     "metadata": {},
     "output_type": "execute_result"
    }
   ],
   "source": [
    "A*B"
   ]
  },
  {
   "attachments": {},
   "cell_type": "markdown",
   "metadata": {},
   "source": [
    "-\n",
    "  - **Tích thông thường**\n",
    "\n",
    "Tích thông thường giữa hai ma trận $\\mathbf{A}$ có kích thước $m \\times n$ và $\\mathbf{B}$ có kích thước $n \\times p$ là một ma trận có kích thước $m \\times p$. Ma trận output $\\mathbf{C}$ có giá trị tại phần tử $c_{ij} = \\mathbf{A}^{(i)} \\mathbf{B}_{j}$ (dòng thứ $i$ của ma trận $\\mathbf{A}$ nhân với cột thứ $j$ của ma trận $\\mathbf{B}$).\n",
    "\n",
    "$$\n",
    "\\begin{split}\\mathbf{A}_{m \\times n} \\mathbf{B}_{n \\times p} =\n",
    "\\begin{bmatrix}\n",
    "    \\mathbf{A}^{(1)}  \\mathbf{B}_{1} & \\mathbf{A}^{(1)}  \\mathbf{B}_{2} & \\dots  & \\mathbf{A}^{(1)}  \\mathbf{B}_{p} \\\\\n",
    "    \\mathbf{A}^{(2)}  \\mathbf{B}_{1} & \\mathbf{A}^{(2)}  \\mathbf{B}_{2} & \\dots  & \\mathbf{A}^{(2)}  \\mathbf{B}_{p} \\\\\n",
    "    \\vdots & \\vdots & \\ddots & \\vdots \\\\\n",
    "    \\mathbf{A}^{(m)}  \\mathbf{B}_{1} & \\mathbf{A}^{(m)}  \\mathbf{B}_{2} & \\dots  & \\mathbf{A}^{(m)}  \\mathbf{B}_{p} \\\\\n",
    "\\end{bmatrix}\\end{split}_{m \\times p}\n",
    "$$\n",
    "\n",
    "Với $\\mathbf{A}^{(i)}$ là véc tơ dòng và $\\mathbf{A}_{j}$ là véc tơ cột.\n",
    "\n",
    "\n",
    "<video width=\"500\" controls>\n",
    "  <source src=\"https://zippy.gfycat.com/PositiveExhaustedAmericangoldfinch.mp4\" type=\"video/mp4\"/>\n",
    "</video>"
   ]
  },
  {
   "cell_type": "code",
   "execution_count": 7,
   "metadata": {},
   "outputs": [
    {
     "name": "stdout",
     "output_type": "stream",
     "text": [
      "[[ 7 10]\n",
      " [ 9 10]]\n",
      "[[ 7 10]\n",
      " [ 9 10]]\n"
     ]
    }
   ],
   "source": [
    "import numpy as np\n",
    "A = np.array([[1, 2, 3], \n",
    "              [3, 2, 1]])\n",
    "\n",
    "B = np.array([[2, 1], \n",
    "              [1, 3],\n",
    "              [1, 1]])\n",
    "\n",
    "r1 = A@B\n",
    "r2 = A.dot(B)\n",
    "print (r1)\n",
    "print(r2)"
   ]
  },
  {
   "attachments": {},
   "cell_type": "markdown",
   "metadata": {},
   "source": [
    "#### 1.3.3.3. Tích giữa ma trận với vector\n",
    "Bản chất của phép nhân một ma trận với một véc tơ là một **phép biến hình(Transformer)**. Giả sử bạn có ma trận $\\mathbf{A} \\in \\mathbb{R}^{m \\times n}$ và véc tơ $\\mathbf{x} \\in \\mathbb{R}^{n}$. Khi đó tích giữa ma trận $\\mathbf{A}$ với véc tơ $\\mathbf{x}$ là một véc tơ $\\mathbf{y}$ trong không gian mới $\\mathbf{y} \\in \\mathbb{R}^{m}$. $\\mathbf{y}$ được xem như ảnh của $\\mathbf{x}$ khi chiếu lên không gian $m$ chiều thông qua hàm ánh xạ $f(\\mathbf{x}) = \\mathbf{A}\\mathbf{x}$.\n",
    "\n",
    "$$\n",
    "\\begin{split}\\mathbf{A}_{m \\times n} \\mathbf{x}_{n \\times 1} =\n",
    "\\begin{bmatrix}\n",
    "    \\mathbf{A}^{(1)}  \\mathbf{x} \\\\\n",
    "    \\mathbf{A}^{(2)}  \\mathbf{x} \\\\\n",
    "    \\vdots \\\\\n",
    "    \\mathbf{A}^{(m)}  \\mathbf{x} \\\\\n",
    "\\end{bmatrix}\\end{split}_{m \\times 1}\n",
    "$$"
   ]
  },
  {
   "cell_type": "code",
   "execution_count": 8,
   "metadata": {},
   "outputs": [],
   "source": [
    "import numpy as np\n",
    "\n",
    "X = np.array([[100, 120, 80, 90, 105, 95], \n",
    "              [2, 3, 2, 2, 3, 2]])\n",
    "w = np.array([[10], [100]])\n",
    "y = X.T@w\n",
    "y"
   ]
  },
  {
   "attachments": {},
   "cell_type": "markdown",
   "metadata": {},
   "source": [
    "Các trường hợp **Transformer** đặc biệt\n",
    "\n",
    "**[Demo](https://web.ma.utexas.edu/users/ysulyma/matrix/)**\n",
    "\n",
    "- **Phép tịnh tiến(matrix translation)**:\n",
    "$$P' = Px + T =\n",
    "\\begin{bmatrix} \n",
    "x\\\\ \n",
    "y \n",
    "\\end{bmatrix} +\n",
    "\\begin{bmatrix} \n",
    "tx\\\\ \n",
    "ty \n",
    "\\end{bmatrix}$$"
   ]
  },
  {
   "cell_type": "code",
   "execution_count": 10,
   "metadata": {},
   "outputs": [
    {
     "name": "stdout",
     "output_type": "stream",
     "text": [
      "[[ 2  2  5]\n",
      " [ 4  6  9]\n",
      " [ 7  8 10]]\n"
     ]
    }
   ],
   "source": [
    "import numpy as np\n",
    "\n",
    "# Tạo ma trận 3x3\n",
    "m = np.array([[1, 2, 3], [4, 5, 6], [7, 8, 9]])\n",
    "\n",
    "# Tạo ma trận tịnh tiến\n",
    "T = np.array([[1, 0, 2], [0, 1, 3], [0, 0, 1]])\n",
    "\n",
    "# Tịnh tiến ma trận\n",
    "translated_m = m + T\n",
    "\n",
    "print(translated_m)"
   ]
  },
  {
   "attachments": {},
   "cell_type": "markdown",
   "metadata": {},
   "source": [
    "- **Phép quay (Rotation):** \n",
    "Trong 2 chiều có thể sử dụng ma trận quay theo công thức:\n",
    "\n",
    "$$ P' = S.P = \\begin{bmatrix} cos(\\theta) & -sin(\\theta) \\\\ sin(\\theta) & cos(\\theta) \\end{bmatrix} \\begin{bmatrix} x \\\\ y \\end{bmatrix} = \\begin{bmatrix} x' \\\\ y' \\end{bmatrix} $$"
   ]
  },
  {
   "attachments": {},
   "cell_type": "markdown",
   "metadata": {},
   "source": [
    "- **Phép tỉ lệ (Scale)**: Phép tỉ lệ là một phép biến đổi cho phép tăng hoặc giảm kích thước của một đối tượng hoặc hình ảnh theo tỷ lệ nhất định. \n",
    "Trong 2 chiều, phép tỉ lệ được thực hiện bằng cách:\n",
    "\n",
    "$$P' = S.P = \\begin{bmatrix} s_x & 0 \\\\ 0 & s_y \\end{bmatrix}\\begin{bmatrix} x \\\\ y \\end{bmatrix} = \\begin{bmatrix} x' \\\\ y' \\end{bmatrix}$$\n"
   ]
  },
  {
   "attachments": {},
   "cell_type": "markdown",
   "metadata": {},
   "source": [
    "- **Phép đối xứng Reflection**: Phép đối xứng là một phép biến đổi đối xứng của một đối tượng qua một đường thẳng nào đó.\n",
    "thức ma trận đối xứng qua trục Ox là:\n",
    "$$P' = S.P = \\begin{bmatrix}1 & 0 \\\\ 0 & -1\\end{bmatrix}\\begin{bmatrix}x \\\\ y\\end{bmatrix} = \\begin{bmatrix}x' \\\\ y'\\end{bmatrix}$$\n",
    "\n",
    "-   Công thức ma trận đối xứng qua góc theta trong 2 chiều là :\n",
    "\n",
    "$$P' = S.P = \\begin{bmatrix}\\cos{2\\theta} & \\sin{2\\theta} \\\\ \\sin{2\\theta} & -\\cos{2\\theta}\\end{bmatrix}\\begin{bmatrix}x \\\\ y\\end{bmatrix} = \\begin{bmatrix}x' \\\\ y'\\end{bmatrix}$$"
   ]
  },
  {
   "attachments": {},
   "cell_type": "markdown",
   "metadata": {},
   "source": [
    "#### 1.3.3.4. Ma trận đơn vị\n",
    "Hàm numpy.eye() nhận vào một tham số là số hàng (hoặc cột) của ma trận đơn vị và trả về ma trận đơn vị với kích thước nxn, trong đó giá trị trên đường chéo chính là 1, còn lại là 0.\n",
    "\n",
    "Ví dụ:"
   ]
  },
  {
   "cell_type": "code",
   "execution_count": 11,
   "metadata": {},
   "outputs": [
    {
     "name": "stdout",
     "output_type": "stream",
     "text": [
      "[[1. 0. 0.]\n",
      " [0. 1. 0.]\n",
      " [0. 0. 1.]]\n"
     ]
    }
   ],
   "source": [
    "import numpy as np\n",
    "\n",
    "I = np.eye(3)\n",
    "print(I)\n"
   ]
  },
  {
   "attachments": {},
   "cell_type": "markdown",
   "metadata": {},
   "source": [
    "#### 1.3.3.5. Phương pháp khử"
   ]
  },
  {
   "attachments": {},
   "cell_type": "markdown",
   "metadata": {},
   "source": [
    "Ví dụ: Tìm nghiệm hệ phương trình sau bằng phương pháp khử:\n",
    "\n",
    "$\\begin{cases}\n",
    "3x + 2y - z = 1 \\\\\n",
    "2x - 2y + 4z = -2 \\\\\n",
    "-x + \\frac{1}{2}y - z = 0\n",
    "\\end{cases}$\n",
    "\n",
    "Bước 1: Chuyển hệ phương trình thành dạng ma trận:\n",
    "$\\begin{bmatrix}\n",
    "3 & 2 & -1 \\\\\n",
    "2 & -2 & 4 \\\\\n",
    "-1 & \\frac{1}{2} & -1 \\\\\n",
    "\\end{bmatrix}\n",
    "\\begin{bmatrix}\n",
    "x \\\\\n",
    "y \\\\\n",
    "z\n",
    "\\end{bmatrix} =\n",
    "\\begin{bmatrix}\n",
    "1 \\\\\n",
    "-2 \\\\\n",
    "0\n",
    "\\end{bmatrix}$\n",
    "\n",
    "Bước 2: Giảm hệ phương trình bằng cách sử dụng các phép nhân và cộng trên các hàng của ma trận. Ví dụ, để giảm hàng thứ hai, ta có thể nhân hàng thứ nhất với 2 và trừ đi hàng thứ hai.\n",
    "\n",
    "$\\begin{bmatrix}\n",
    "3 & 2 & -1 \\\\\n",
    "0 & -8 & 10 \\\\\n",
    "-1 & \\frac{1}{2} & -1 \\\\\n",
    "\\end{bmatrix}\n",
    "\\begin{bmatrix}\n",
    "x \\\\\n",
    "y \\\\\n",
    "z\n",
    "\\end{bmatrix} =\n",
    "\\begin{bmatrix}\n",
    "1 \\\\\n",
    "-6 \\\\\n",
    "0\n",
    "\\end{bmatrix}$\n",
    "\n",
    "Bước 3: Tiếp tục giảm hệ phương trình bằng cách sử dụng các phép nhân và cộng trên các hàng của ma trận cho đến khi hệ phương trình trở nên dễ giải được.\n",
    "\n",
    "$\\begin{bmatrix}\n",
    "3 & 2 & -1 \\\\\n",
    "0 & -8 & 10 \\\\\n",
    "0 & -1 & -1 \\\\\n",
    "\\end{bmatrix}\n",
    "\\begin{bmatrix}\n",
    "x \\\\\n",
    "y \\\\\n",
    "z\n",
    "\\end{bmatrix} =\n",
    "\\begin{bmatrix}\n",
    "1 \\\\\n",
    "-6 \\\\\n",
    "-1\n",
    "\\end{bmatrix}$"
   ]
  },
  {
   "attachments": {},
   "cell_type": "markdown",
   "metadata": {},
   "source": [
    "#### 1.3.3.5. Ma trận nghịch đảo\n",
    "- là một ma trận mà khi nhân với ma trận ban đầu sẽ cho kết quả là ma trận đơn vị. Chỉ có ma trận vuông mới có thể tìm được ma trận nghịch đảo."
   ]
  },
  {
   "attachments": {},
   "cell_type": "markdown",
   "metadata": {},
   "source": [
    " Ma trận đảo của một ma trận A là một ma trận $A^{-1}$ sao cho $$A * A^{-1} = I$$ ($I$ là ma trận đơn vị)\n",
    "\n",
    "Trong Numpy, bạn có thể sử dụng hàm `numpy.linalg.inv()` để tính ma trận đảo của một ma trận cho trước."
   ]
  },
  {
   "cell_type": "code",
   "execution_count": 12,
   "metadata": {},
   "outputs": [
    {
     "name": "stdout",
     "output_type": "stream",
     "text": [
      "[[ 3.15251974e+15 -6.30503948e+15  3.15251974e+15]\n",
      " [-6.30503948e+15  1.26100790e+16 -6.30503948e+15]\n",
      " [ 3.15251974e+15 -6.30503948e+15  3.15251974e+15]]\n"
     ]
    }
   ],
   "source": [
    "import numpy as np\n",
    "\n",
    "# Tạo ma trận 3x3\n",
    "m = np.array([[1, 2, 3], [4, 5, 6], [7, 8, 9]])\n",
    "\n",
    "# Tính ma trận đảo\n",
    "inverse_m = np.linalg.inv(m)\n",
    "print(inverse_m)"
   ]
  },
  {
   "attachments": {},
   "cell_type": "markdown",
   "metadata": {},
   "source": [
    "#### 1.3.3.6. Chuyển vị ma trận\n",
    "- Công thức chuyển vị ma trận là:\n",
    "\n",
    "$$(A^T){i,j} = A{j,i}$$\n",
    "\n",
    "Trong đó,\n",
    "\n",
    "A là ma trận ban đầu cần chuyển vị\n",
    "A^T là ma trận chuyển vị của A\n",
    "Với i và j là vị trí của từng phần tử trong ma trận A."
   ]
  },
  {
   "cell_type": "code",
   "execution_count": 13,
   "metadata": {},
   "outputs": [
    {
     "name": "stdout",
     "output_type": "stream",
     "text": [
      "[[1 4 7]\n",
      " [2 5 8]\n",
      " [3 6 9]]\n",
      "[[1 4 7]\n",
      " [2 5 8]\n",
      " [3 6 9]]\n",
      "[[1 4 7]\n",
      " [2 5 8]\n",
      " [3 6 9]]\n"
     ]
    }
   ],
   "source": [
    "import numpy as np\n",
    "\n",
    "A = np.array([[1, 2, 3], [4, 5, 6], [7, 8, 9]])\n",
    "A_T = np.transpose(A)\n",
    "print(A_T)\n",
    "\n",
    "A_T = A.T\n",
    "print(A_T)\n",
    "\n",
    "A_T = A.transpose()\n",
    "print(A_T)\n"
   ]
  },
  {
   "attachments": {},
   "cell_type": "markdown",
   "metadata": {},
   "source": [
    "#### 1.3.3.7. Định thức của ma trận\n",
    "là một số thực mà ta dùng để xác định tính đối xứng hay không của ma trận, được ký hiệu bằng $|A|$ hoặc $det(A)$. Định thức của ma trận có thể được tính bằng cách tính dãy tích các phần tử trên chéo chính của ma trận cộng lại.\n",
    "\n",
    "Giả sử ta có một ma trận vuông $\\mathbf{A}$ như sau:\n",
    "\n",
    "$$\\mathbf{A}=\\begin{bmatrix} \n",
    "a_{11} & a_{12} & \\dots & a_{1n} \\\\ \n",
    "a_{21} & a_{22} & \\dots & a_{2n} \\\\ \n",
    "\\dots & \\dots & \\ddots & \\dots \\\\ \n",
    "a_{n1} & a_{n2} & \\dots & a_{nn} \\\\ \n",
    "\\end{bmatrix}$$\n",
    "\n",
    "Định thức của một ma trận $\\mathbf{A}$  được tính theo công thức:\n",
    "\n",
    "$$\\det(\\mathbf{A})= \\sum_{(\\sigma_1, \\sigma_2, \\dots, \\sigma_n) \\in \\mathcal{S}} \\text{sgn}(\\sigma) a_{1\\sigma_1}a_{2\\sigma_2}\\cdots a_{n\\sigma_n}$$\n",
    "\n",
    "Trong đó $\\sigma=(\\sigma_1, \\sigma_2, \\dots, \\sigma_n)$ là một phép hoán vị các thành phần của tập hợp $n$ số tự nhiên đầu tiên $O = \\{1, 2, \\dots, n\\}$. Tập hợp tất cả các hoán vị của $n$ số tự nhiên này còn được kí hiệu là $\\mathcal{S}$. Hàm $\\text{sgn}(\\sigma)$ là một hàm nhận hai gía trị $\\{1, -1\\}$. Nếu số lần hoán vị $\\sigma$ để biến đổi trở về tập $O$ là chẵn thì nhận giá trị 1 và lẻ thì nhận giá trị -1.\n",
    "\n",
    "Ngoài ra định thức của ma trận $\\mathbf{A}$ có thể được khai triển theo các _ma trận phần bù_ $\\mathbf{A}_{ij}$ của ma trận $\\mathbf{A}$. Trong đó ma trận phần bù $\\mathbf{A}_{ij}$ là ma trận được tạo thành bằng cách xoá đi dòng thứ $i$ và cột thứ $j$ của ma trận $\\mathbf{A}$.\n",
    "\n",
    "$$|A| = \\sum_{k=1}^n (-1)^{i+k} A_{i,k} M_{i,k} $$\n",
    "\n",
    "Trong đó:\n",
    "\n",
    "$A$ là ma trận cần tính định thức.\n",
    "\n",
    "$M_{i,k}$ là ma trận con của $A$ với dòng $i$ và cột $k$ đã bị loại bỏ.\n",
    "\n",
    "$i$,$k$ là vị trí của phần tử trong ma trận $A$"
   ]
  },
  {
   "attachments": {},
   "cell_type": "markdown",
   "metadata": {},
   "source": [
    "Trong `numpy`, định thức có thể được tính toán khá dễ dàng thông qua hàm `np.linalg.det()`."
   ]
  },
  {
   "cell_type": "code",
   "execution_count": 14,
   "metadata": {},
   "outputs": [
    {
     "data": {
      "text/plain": [
       "-2.0000000000000004"
      ]
     },
     "execution_count": 14,
     "metadata": {},
     "output_type": "execute_result"
    }
   ],
   "source": [
    "import numpy as np\n",
    "\n",
    "A = np.array([[1, 2],\n",
    "              [3, 4]])\n",
    "\n",
    "# Định thức của ma trận\n",
    "np.linalg.det(A)"
   ]
  },
  {
   "attachments": {},
   "cell_type": "markdown",
   "metadata": {},
   "source": [
    "Định thức có vai trò rất quan trọng trong đại số tuyến tính. Thông qua định thức, chúng ta có thể biết được hệ các véc tơ dòng (hoặc cột) của một ma trận là độc lập tuyến tính hay phụ thuộc tuyến tính? Hệ phương trình tương ứng với ma trận có thể có bao nhiêu nghiệm? Bên dưới là một số tính chất của định thức:\n",
    "\n",
    "1-. Định thức chỉ tồn tại trên những ma trận vuông.\n",
    "\n",
    "2-. $\\text{det}(\\mathbf{A}) = \\text{det}(\\mathbf{A}^{\\intercal})$\n",
    "\n",
    "3-. $\\det(\\mathbf{I}) = 1$\n",
    "\n",
    "4-. Một ma trận đường chéo thì có định thức bằng tích các phần tử nằm trên đường chéo. Ma trận đường chéo còn được kí hiệu thông qua các phần tử trên đường chéo là $\\text{diag}(a_1, a_2, \\dots, a_m)$. Tức là nếu:\n",
    "\n",
    "$$\\mathbf{A} = \\text{diag}(a_1, a_2, \\dots, a_m)=\\begin{bmatrix} \n",
    "a_{1} & 0 & \\dots & 0\\\\ \n",
    "0 & a_{2} & \\dots & 0\\\\ \n",
    "\\dots & \\dots & \\ddots & \\dots\\\\ \n",
    "0 & 0 & \\dots & a_{m}\\\\ \n",
    "\\end{bmatrix}$$\n",
    "\n",
    "thì:\n",
    "\n",
    "$$\\text{det}(\\mathbf{A}_{m \\times m}) = a_1.a_2 \\dots a_m$$\n",
    "\n",
    "\n",
    "5-. Nếu $\\mathbf{A}, \\mathbf{B}$ là những ma trận vuông cùng kích thước thì \n",
    "\n",
    "$$\\text{det}(\\mathbf{AB}) = \\text{det}(\\mathbf{BA}) = \\det({\\mathbf{A}}) \\det({\\mathbf{B}})$$\n",
    "\n",
    "Cũng từ tính chất này ta suy ra:\n",
    "\n",
    "$$\\det{(\\mathbf{A} \\mathbf{B} \\mathbf{C})} = \\det(\\mathbf{A}) \\det(\\mathbf{B}) \\det(\\mathbf{C})$$\n",
    "\n",
    "6-. Ma trận vuông $\\mathbf{A}$ khả nghịch thì \n",
    "\n",
    "$$\\text{det}(\\mathbf{A}) = \\frac{1}{\\text{det}{(\\mathbf{A}^{-1})}}$$\n",
    "\n",
    "Từ tính chất này ta cũng suy ra một ma trận khả nghịch thì định thức của nó phải khác 0 bởi nếu định thức của nó bằng 0 thì $\\det(\\mathbf{A}) = 0$, điều này là vô lý vì vế phải của phương trình trên không thể bằng 0.\n",
    "\n",
    "7-. Nếu một ma trận tồn tại một véc tơ dòng hoặc véc tơ cột có toàn bộ các phần tử bằng 0 thì định thức của ma trận bằng 0.\n",
    "\n",
    "8-. Trong một ma trận nếu đổi vị trí của hai dòng bất kì hoặc hai cột bất kì và các vị trí còn lại dữ nguyên thì định thức đổi dấu. Tức là nếu bên dưới ta có hai ma trận vuông:\n",
    "\n",
    "$$\\mathbf{A}=\\begin{bmatrix} \n",
    "\\mathbf{A}_{1:} \\\\ \n",
    "\\dots \\\\ \n",
    "\\mathbf{A}_{i:} \\\\\n",
    "\\dots \\\\ \n",
    "\\mathbf{A}_{j:} \\\\\n",
    "\\dots \\\\ \n",
    "\\mathbf{A}_{n:} \\\\\n",
    "\\end{bmatrix} ~ \\text{and} ~ \n",
    "\\mathbf{A'}=\\begin{bmatrix} \n",
    "\\mathbf{A}_{1:} \\\\ \n",
    "\\dots \\\\ \n",
    "\\mathbf{A}_{j:} \\\\\n",
    "\\dots \\\\ \n",
    "\\mathbf{A}_{i:} \\\\\n",
    "\\dots \\\\ \n",
    "\\mathbf{A}_{n:} \\\\\n",
    "\\end{bmatrix}$$\n",
    "\n",
    "Trong đó ma trận $\\mathbf{A'}$ thu được bằng cách thay đổi vị trí dòng $\\mathbf{A}_{i:}$ cho dòng $\\mathbf{A}_{j:}$ của ma trận $\\mathbf{A}$ thì $\\det({\\mathbf{A}}) = -\\det(\\mathbf{A'})$.\n",
    "\n",
    "9-. Khi cộng vào một dòng tích của một dòng khác với hệ số $\\alpha$ hoặc cộng vào một cột với tích của một cột khác với hệ số $\\alpha$ thì định thức không đổi. \n",
    "\n",
    "10-. Khi nhân một dòng hoặc một cột bất kì của ma trận với hệ số $\\alpha$ và các dòng và cột khác giữa nguyên thì định thức của ma trận mới tăng gấp $\\alpha$ lần. Như vậy ta suy ra một tính chất khá quan trọng đối với ma trận $\\mathbf{A} \\in \\mathbb{R}^{n \\times n}$:\n",
    "\n",
    "$$\\det(\\alpha \\mathbf{A}) = \\alpha^{n} \\det(\\mathbf{A})$$"
   ]
  }
 ],
 "metadata": {
  "kernelspec": {
   "display_name": "base",
   "language": "python",
   "name": "python3"
  },
  "language_info": {
   "codemirror_mode": {
    "name": "ipython",
    "version": 3
   },
   "file_extension": ".py",
   "mimetype": "text/x-python",
   "name": "python",
   "nbconvert_exporter": "python",
   "pygments_lexer": "ipython3",
   "version": "3.9.13 (main, Aug 25 2022, 18:29:29) \n[Clang 12.0.0 ]"
  },
  "orig_nbformat": 4,
  "vscode": {
   "interpreter": {
    "hash": "772b0b0513c36abbfa3ab46b3d6e7d4324180633e97720e7a10ac42e5b0142a7"
   }
  }
 },
 "nbformat": 4,
 "nbformat_minor": 2
}
