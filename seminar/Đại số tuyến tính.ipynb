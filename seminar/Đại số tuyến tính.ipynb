{
 "cells": [
  {
   "attachments": {},
   "cell_type": "markdown",
   "metadata": {},
   "source": [
    "# Đại số tuyến tính"
   ]
  },
  {
   "cell_type": "markdown",
   "metadata": {},
   "source": []
  },
  {
   "attachments": {},
   "cell_type": "markdown",
   "metadata": {},
   "source": [
    "## 1.1 Số vô hướng\n",
    "Trong cuộc sống hàng ngày của chúng ta sẽ gặp rất nhiều số vô hướng (scalar). Giá trị của tiền thuê nhà mà bạn phải trả là một số vô hướng. Bạn vừa thực hiện một bài kiểm tra, bạn được 9 điểm thì điểm số này cũng là một số vô hướng...\n",
    "\n",
    "=> Tóm lại số vô hướng là một con số cụ thể. Số vô hướng sẽ khác với biến số vì biến số có thể nhận nhiều giá trị trong khi số vô hướng chỉ nhận một giá trị duy nhất. VD: khi giá nhà y theo diện tích x theo phương trình: y = 20x + 200 thì các số vô hướng là *20, 200*, và các biến là *x, y*\n",
    "\n",
    "Số vô hướng có thể được coi như hằng số trong một phương trình. Chúng ta có thể thực hiện các phép toán cộng/trừ/nhân/chia với số vô hướng như với hằng số"
   ]
  },
  {
   "cell_type": "code",
   "execution_count": 1,
   "metadata": {},
   "outputs": [
    {
     "name": "stdout",
     "output_type": "stream",
     "text": [
      "diện tích x = 50 --> giá nhà y = a*50+b =  1200\n"
     ]
    }
   ],
   "source": [
    "import numpy as np\n",
    "\n",
    "a = np.array(20)\n",
    "b = np.array(200)\n",
    "print(\"diện tích x = 50 --> giá nhà y = a*50+b = \", a*50+b)"
   ]
  },
  {
   "attachments": {},
   "cell_type": "markdown",
   "metadata": {},
   "source": [
    "## 1.2. Vector\n",
    "Vector là một khái niệm cơ bản nhất của toán học. Chúng ta có thể coi vector là một tập hợp nhiều giá trị của số vô hướng. \n",
    "\n",
    "Vector là một đại lượng biểu diễn cho cả độ lớn và hướng. Ví dụ như để biểu diễn một lực nào đó tác dụng lên vật, ta có một vector gồm có 2 thành phần – độ lớn lực tác động lên vật đó và hướng tác động. Hay ta có thể dùng vector để biểu diễn vận tốc – tốc độ và hướng. Ngoài ra, ta còn có dạng vector thuần chỉ hướng\n",
    "\n",
    "Trong khoa học máy tính và dữ liệu, chúng ta khái quát ý tưởng đó để coi vector như là một danh sách các thuộc tính của một đối tượng. Ví dụ một ngôi nhà có một số các thuộc tính như diện tích mặt sàn (100m2), số lượng phòng ngủ(3 pn), số lượng phòng tắm(2pt), và giá của nó(3tỷ)... từ đó ta có thể dùng vector để biểu diễn chúng:\n",
    "[100, 3, 2, 3]. Ngoài ra vector cũng có thể được sử dụng để thể hiện cho sự thay đổi của một thuộc tính riêng.\n",
    "\n",
    "$$\\begin{split}\\mathbf{x}=\\begin{bmatrix} \n",
    "100\\\\ \n",
    "3\\\\ \n",
    "2\\\\ \n",
    "3\\\\ \n",
    "\\end{bmatrix}.\\end{split}$$"
   ]
  },
  {
   "cell_type": "code",
   "execution_count": 19,
   "metadata": {},
   "outputs": [
    {
     "data": {
      "text/plain": [
       "array([100,   3,   2,   3])"
      ]
     },
     "execution_count": 19,
     "metadata": {},
     "output_type": "execute_result"
    }
   ],
   "source": [
    "x = np.array([100, 3, 2, 3])\n",
    "x"
   ]
  },
  {
   "attachments": {},
   "cell_type": "markdown",
   "metadata": {},
   "source": [
    "### 1.2.1 Các thuộc tính của vector\n",
    "Một vector sẽ có độ dài và định dạng dữ liệu xác định. Ngoài ra nếu coi một biến số là một vector thì trong thông kê mô tả chúng sẽ quan tâm tới tổng, trung bình, phương sai, giá trị lớn nhất, nhỏ nhất..."
   ]
  },
  {
   "cell_type": "code",
   "execution_count": 20,
   "metadata": {},
   "outputs": [
    {
     "name": "stdout",
     "output_type": "stream",
     "text": [
      "length of vector:  (4,)\n",
      "vector type:  int64\n",
      "sum of vector:  108\n",
      "mean of vector:  27.0\n",
      "min of vector:  2\n",
      "max of vector:  100\n"
     ]
    }
   ],
   "source": [
    "# Độ dài\n",
    "print(\"length of vector: \", x.shape) # or len(x)\n",
    "\n",
    "# Định dạng của véc tơ\n",
    "print(\"vector type: \", x.dtype)\n",
    "\n",
    "# Tổng của các phần tử \n",
    "print(\"sum of vector: \", x.sum())\n",
    "\n",
    "# Trung bình các phần tử\n",
    "print(\"mean of vector: \", x.mean())\n",
    "\n",
    "# Giá trị nhỏ nhất\n",
    "print(\"min of vector: \", x.min())\n",
    "\n",
    "# Giá trị lớn nhất\n",
    "print(\"max of vector: \", x.max())"
   ]
  },
  {
   "attachments": {},
   "cell_type": "markdown",
   "metadata": {},
   "source": [
    "### 1.2.2 các phép tính trên vector\n",
    "Chúng ta có thể thực hiện các phép tính trên vector như phép cộng, trừ, tích vô hướng, tích có hướng giữa hai vector... Lưu ý là chúng phải có cùng độ dài và chúng có tính chất giao hoán."
   ]
  },
  {
   "cell_type": "code",
   "execution_count": 21,
   "metadata": {},
   "outputs": [
    {
     "name": "stdout",
     "output_type": "stream",
     "text": [
      "x + y:  [160   5   3   5]\n",
      "x - y:  [40  1  1  1]\n",
      "x * y:  [6000    6    2    6]\n"
     ]
    }
   ],
   "source": [
    "import numpy as np\n",
    "x = np.array([100, 3, 2, 3])\n",
    "y = np.array([60, 2, 1, 2])\n",
    "print(\"x + y: \", x + y)\n",
    "print(\"x - y: \", x - y)\n",
    "print(\"x * y: \", x * y)"
   ]
  },
  {
   "attachments": {},
   "cell_type": "markdown",
   "metadata": {},
   "source": [
    "Véc tơ có thể thực hiện các phép cộng, trừ, nhân, chia với một số vô hướng. Giá trị thu được là một véc tơ cùng kích thước mà mỗi phần tử của nó là kết quả được thực hiện trên từng phần tử của véc tơ với số vô hướng đó."
   ]
  },
  {
   "cell_type": "code",
   "execution_count": 22,
   "metadata": {},
   "outputs": [
    {
     "name": "stdout",
     "output_type": "stream",
     "text": [
      "x + 5:  [6.  7.  6.5 6.8 6.9]\n",
      "x - 5:  [-4.  -3.  -3.5 -3.2 -3.1]\n",
      "x * 5:  [ 5.  10.   7.5  9.   9.5]\n"
     ]
    }
   ],
   "source": [
    "x = np.array([1, 2, 1.5, 1.8, 1.9])\n",
    "print(\"x + 5: \", x + 5)\n",
    "print(\"x - 5: \", x - 5)\n",
    "print(\"x * 5: \", x * 5)"
   ]
  },
  {
   "attachments": {},
   "cell_type": "markdown",
   "metadata": {},
   "source": [
    "# 1.2.3. Các phép tính nâng cao\n",
    "* **Module** của một vector là giá trị chiều dài của vector đó. Nó có thể được tính bằng công thức sau:\n",
    "\n",
    "$$||\\vec{v}|| = \\sqrt{\\sum_{i=1}^{n} v_i^2}$$\n",
    "\n",
    "Trong đó, $||\\vec{v}||$ là module của vector $\\vec{v}$ = $(v_1, v_2, ..., v_n)$ và n là số chiều của vector.\n",
    "Công thức trên là tính khoảng cách của vector v từ gốc tọa độ về điểm trên vector tương đương với độ dài của vector."
   ]
  },
  {
   "cell_type": "code",
   "execution_count": 25,
   "metadata": {},
   "outputs": [
    {
     "name": "stdout",
     "output_type": "stream",
     "text": [
      "5.0\n"
     ]
    }
   ],
   "source": [
    "x = np.array([3, 4])\n",
    "module = np.linalg.norm(x)\n",
    "print(module)"
   ]
  },
  {
   "attachments": {},
   "cell_type": "markdown",
   "metadata": {},
   "source": [
    "Nhân vô hướng (scalar product) của hai vector A và B, được tính bằng cách nhân giá trị chiều dài của hai vector và góc giữa chúng. Kết quả của nhân vô hướng là một số thực.\n",
    "\n",
    "Có hai cách chính để tính nhân vô hướng:\n",
    "\n",
    "sử dụng công thức cộng sảnh: $\\vec{A} \\cdot \\vec{B} = |\\vec{A}|\\ |\\vec{B}| \\cos(\\theta)$\n",
    "\n",
    "sử dụng dot product: $\\vec{A} \\cdot \\vec{B} = \\sum_{i=1}^n A_i B_i =A_1B_1 + A_2B_2 +....+ A_nB_n$\n",
    "\n",
    "Trong đó, $|\\vec{A}|$ và $|\\vec{B}|$ là module của vector A và B tương ứng, $\\theta$ là góc giữa hai vector, $A_i$ và $B_i$ là các phần tử của vector A và B tương ứng, và n là số chiều của hai vector.\n",
    "\n",
    "Chúng ta có thể bắt gặp tích vô hướng rất nhiều trong machine learning. Bên dưới là một số tình huống thường gặp:\n",
    "\n",
    "- Tích vô hướng có thể được sử dụng để tính giá trị ước lượng của phương trình hồi qui tuyến tính. Ví dụ nếu bạn biết giá nhà được biểu diễn theo diện tích $x_1$ và số phòng ngủ $x_2$ theo công thức: \n",
    "\n",
    "$$y=20x_1 + 10x_2+ 200$$\n",
    "\n",
    "Thì một cách khái quát bạn có thể ước lượng $y$ theo tích vô hướng giữa véc tơ đầu vào $\\mathbf{x}^{\\top} = (x_1, x_2, 1)$ và véc tơ hệ số $\\mathbf{w} = (20, 10, 200)$ như sau:\n",
    " \n",
    "$$\\hat{y} = \\mathbf{x}^{\\top}\\mathbf{w}$$\n",
    "\n",
    "- Tích vô hướng cũng được sử dụng để tính trung bình có trọng số của $\\mathbf{x}$:\n",
    "\n",
    "$$\\bar{\\mathbf{x}} = \\sum_{i=1}^{n} x_i q_i= \\mathbf{x}^{\\top}\\mathbf{q}$$\n",
    "với $\\sum_{i=1}^{n} q_i= 1$\n",
    "\n",
    "- Ngoài ra, chắc hẳn bạn còn nhớ cách tính cos giữa hai véc tơ $\\mathbf{x}$ và $\\mathbf{y}$ sẽ bằng tích vô hướng giữa hai véc tơ.\n",
    "\n",
    "$$\\cos({\\mathbf{x}, \\mathbf{y}}) = \\frac{\\sum_{i=1}^{d} x_i y_i}{ \\sqrt{\\sum_{i=1}^{d} x_i^2} \\sqrt{\\sum_{i=1}^d y_i^2}}= \\frac{\\langle \\mathbf{x}, \\mathbf{y} \\rangle}{\\mathbf{||x||_2}\\mathbf{||y||_2}}\n",
    "$$\n",
    "\n",
    "\n",
    "Hàm dot trong numpy có thể sử dụng để tính nhân vô hướng với cú pháp : `numpy.dot(A, B)` hoặc `A.dot(B)`\n"
   ]
  },
  {
   "cell_type": "code",
   "execution_count": 29,
   "metadata": {},
   "outputs": [
    {
     "name": "stdout",
     "output_type": "stream",
     "text": [
      "x.dot(y) =  20\n",
      "np.dot(x, y) 20\n"
     ]
    }
   ],
   "source": [
    "x = np.array([1, 2, 3])\n",
    "y = np.array([2, 3, 4])\n",
    "print(\"x.dot(y) = \", x.dot(y))\n",
    "print(\"np.dot(x, y) = \", np.dot(x, y))"
   ]
  },
  {
   "attachments": {},
   "cell_type": "markdown",
   "metadata": {},
   "source": [
    "## 1.3. Ma trận\n",
    "\n",
    "Vector là đại lượng một chiều nên nó chỉ có thể biểu diễn cho một biến. Trong trường hợp chúng ta cần biểu diễn cho nhiều biến và\n",
    "\n",
    "$$\\begin{split}\\mathbf{A}=\\begin{bmatrix} \n",
    "a_{11} & a_{12} & \\cdots & a_{1n} \\\\ \n",
    "a_{21} & a_{22} & \\cdots & a_{2n} \\\\ \n",
    "\\vdots & \\vdots & \\ddots & \\vdots \\\\ \n",
    "a_{m1} & a_{m2} & \\cdots & a_{mn} \\\\ \n",
    "\\end{bmatrix}.\\end{split}$$"
   ]
  }
 ],
 "metadata": {
  "kernelspec": {
   "display_name": "base",
   "language": "python",
   "name": "python3"
  },
  "language_info": {
   "codemirror_mode": {
    "name": "ipython",
    "version": 3
   },
   "file_extension": ".py",
   "mimetype": "text/x-python",
   "name": "python",
   "nbconvert_exporter": "python",
   "pygments_lexer": "ipython3",
   "version": "3.9.13 (main, Aug 25 2022, 18:29:29) \n[Clang 12.0.0 ]"
  },
  "orig_nbformat": 4,
  "vscode": {
   "interpreter": {
    "hash": "772b0b0513c36abbfa3ab46b3d6e7d4324180633e97720e7a10ac42e5b0142a7"
   }
  }
 },
 "nbformat": 4,
 "nbformat_minor": 2
}
