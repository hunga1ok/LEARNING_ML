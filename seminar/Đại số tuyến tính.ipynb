{
 "cells": [
  {
   "attachments": {},
   "cell_type": "markdown",
   "metadata": {},
   "source": [
    "# Đại số tuyến tính"
   ]
  },
  {
   "attachments": {},
   "cell_type": "markdown",
   "metadata": {},
   "source": [
    "## 1.1 Số vô hướng\n",
    "Trong cuộc sống hàng ngày của chúng ta sẽ gặp rất nhiều số vô hướng (scalar). Giá trị của tiền thuê nhà mà bạn phải trả là một số vô hướng. Bạn vừa thực hiện một bài kiểm tra, bạn được 9 điểm thì điểm số này cũng là một số vô hướng...\n",
    "\n",
    "=> Tóm lại số vô hướng là một con số cụ thể. Số vô hướng sẽ khác với biến số vì biến số có thể nhận nhiều giá trị trong khi số vô hướng chỉ nhận một giá trị duy nhất. VD: khi giá nhà y theo diện tích x theo phương trình: y = 20x + 200 thì các số vô hướng là *20, 200*, và các biến là *x, y*\n",
    "\n",
    "Số vô hướng có thể được coi như hằng số trong một phương trình. Chúng ta có thể thực hiện các phép toán cộng/trừ/nhân/chia với số vô hướng như với hằng số"
   ]
  },
  {
   "cell_type": "code",
   "execution_count": 43,
   "metadata": {},
   "outputs": [
    {
     "name": "stdout",
     "output_type": "stream",
     "text": [
      "diện tích x = 50 --> giá nhà y = a*50+b =  1200\n"
     ]
    }
   ],
   "source": [
    "import numpy as np\n",
    "\n",
    "a = np.array(20)\n",
    "b = np.array(200)\n",
    "print(\"diện tích x = 50 --> giá nhà y = a*50+b = \", a*50+b)"
   ]
  },
  {
   "attachments": {},
   "cell_type": "markdown",
   "metadata": {},
   "source": [
    "## 1.2. Vector\n",
    "Vector là một khái niệm cơ bản nhất của toán học. Chúng ta có thể coi vector là một tập hợp nhiều giá trị của số vô hướng. \n",
    "\n",
    "Vector là một đại lượng biểu diễn cho cả độ lớn và hướng. Ví dụ như để biểu diễn một lực nào đó tác dụng lên vật, ta có một vector gồm có 2 thành phần – độ lớn lực tác động lên vật đó và hướng tác động. Hay ta có thể dùng vector để biểu diễn vận tốc – tốc độ và hướng. Ngoài ra, ta còn có dạng vector thuần chỉ hướng\n",
    "\n",
    "Trong khoa học máy tính và dữ liệu, chúng ta khái quát ý tưởng đó để coi vector như là một danh sách các thuộc tính của một đối tượng. Ví dụ một ngôi nhà có một số các thuộc tính như diện tích mặt sàn (100m2), số lượng phòng ngủ(3 pn), số lượng phòng tắm(2pt), và giá của nó(3tỷ)... từ đó ta có thể dùng vector để biểu diễn chúng:\n",
    "[100, 3, 2, 3]. Ngoài ra vector cũng có thể được sử dụng để thể hiện cho sự thay đổi của một thuộc tính riêng.\n",
    "\n",
    "$$\\begin{split}\\mathbf{x}=\\begin{bmatrix} \n",
    "100\\\\ \n",
    "3\\\\ \n",
    "2\\\\ \n",
    "3\\\\ \n",
    "\\end{bmatrix}.\\end{split}$$"
   ]
  },
  {
   "cell_type": "code",
   "execution_count": 44,
   "metadata": {},
   "outputs": [
    {
     "data": {
      "text/plain": [
       "array([100,   3,   2,   3])"
      ]
     },
     "execution_count": 44,
     "metadata": {},
     "output_type": "execute_result"
    }
   ],
   "source": [
    "x = np.array([100, 3, 2, 3])\n",
    "x"
   ]
  },
  {
   "attachments": {},
   "cell_type": "markdown",
   "metadata": {},
   "source": [
    "### 1.2.1 Các thuộc tính của vector\n",
    "Một vector sẽ có độ dài và định dạng dữ liệu xác định. Ngoài ra nếu coi một biến số là một vector thì trong thông kê mô tả chúng sẽ quan tâm tới tổng, trung bình, phương sai, giá trị lớn nhất, nhỏ nhất..."
   ]
  },
  {
   "cell_type": "code",
   "execution_count": 45,
   "metadata": {},
   "outputs": [
    {
     "name": "stdout",
     "output_type": "stream",
     "text": [
      "length of vector:  (4,)\n",
      "vector type:  int64\n",
      "sum of vector:  108\n",
      "mean of vector:  27.0\n",
      "min of vector:  2\n",
      "max of vector:  100\n"
     ]
    }
   ],
   "source": [
    "# Độ dài\n",
    "print(\"length of vector: \", x.shape) # or len(x)\n",
    "\n",
    "# Định dạng của véc tơ\n",
    "print(\"vector type: \", x.dtype)\n",
    "\n",
    "# Tổng của các phần tử \n",
    "print(\"sum of vector: \", x.sum())\n",
    "\n",
    "# Trung bình các phần tử\n",
    "print(\"mean of vector: \", x.mean())\n",
    "\n",
    "# Giá trị nhỏ nhất\n",
    "print(\"min of vector: \", x.min())\n",
    "\n",
    "# Giá trị lớn nhất\n",
    "print(\"max of vector: \", x.max())"
   ]
  },
  {
   "attachments": {},
   "cell_type": "markdown",
   "metadata": {},
   "source": [
    "### 1.2.2 các phép tính trên vector\n",
    "Chúng ta có thể thực hiện các phép tính trên vector như phép cộng, trừ, tích vô hướng, tích có hướng giữa hai vector... Lưu ý là chúng phải có cùng độ dài và chúng có tính chất giao hoán."
   ]
  },
  {
   "cell_type": "code",
   "execution_count": 46,
   "metadata": {},
   "outputs": [
    {
     "name": "stdout",
     "output_type": "stream",
     "text": [
      "x + y:  [160   5   3   5]\n",
      "x - y:  [40  1  1  1]\n",
      "x * y:  [6000    6    2    6]\n"
     ]
    }
   ],
   "source": [
    "import numpy as np\n",
    "x = np.array([100, 3, 2, 3])\n",
    "y = np.array([60, 2, 1, 2])\n",
    "print(\"x + y: \", x + y)\n",
    "print(\"x - y: \", x - y)\n",
    "print(\"x * y: \", x * y)"
   ]
  },
  {
   "attachments": {},
   "cell_type": "markdown",
   "metadata": {},
   "source": [
    "Véc tơ có thể thực hiện các phép cộng, trừ, nhân, chia với một số vô hướng. Giá trị thu được là một véc tơ cùng kích thước mà mỗi phần tử của nó là kết quả được thực hiện trên từng phần tử của véc tơ với số vô hướng đó."
   ]
  },
  {
   "cell_type": "code",
   "execution_count": 47,
   "metadata": {},
   "outputs": [
    {
     "name": "stdout",
     "output_type": "stream",
     "text": [
      "x + 5:  [6.  7.  6.5 6.8 6.9]\n",
      "x - 5:  [-4.  -3.  -3.5 -3.2 -3.1]\n",
      "x * 5:  [ 5.  10.   7.5  9.   9.5]\n"
     ]
    }
   ],
   "source": [
    "x = np.array([1, 2, 1.5, 1.8, 1.9])\n",
    "print(\"x + 5: \", x + 5)\n",
    "print(\"x - 5: \", x - 5)\n",
    "print(\"x * 5: \", x * 5)"
   ]
  },
  {
   "attachments": {},
   "cell_type": "markdown",
   "metadata": {},
   "source": [
    "### 1.2.3. Các phép tính nâng cao\n",
    "* **Module** của một vector là giá trị chiều dài của vector đó. Nó có thể được tính bằng công thức sau:\n",
    "\n",
    "$$||\\vec{v}|| = \\sqrt{\\sum_{i=1}^{n} v_i^2}$$\n",
    "\n",
    "Trong đó, $||\\vec{v}||$ là module của vector $\\vec{v}$ = $(v_1, v_2, ..., v_n)$ và n là số chiều của vector.\n",
    "Công thức trên là tính khoảng cách của vector v từ gốc tọa độ về điểm trên vector tương đương với độ dài của vector."
   ]
  },
  {
   "cell_type": "code",
   "execution_count": 48,
   "metadata": {},
   "outputs": [
    {
     "name": "stdout",
     "output_type": "stream",
     "text": [
      "5.0\n"
     ]
    }
   ],
   "source": [
    "x = np.array([3, 4])\n",
    "module = np.linalg.norm(x)\n",
    "print(module)"
   ]
  },
  {
   "attachments": {},
   "cell_type": "markdown",
   "metadata": {},
   "source": [
    "* **Nhân vô hướng (scalar product)** của hai vector A và B, được tính bằng cách nhân giá trị chiều dài của hai vector và góc giữa chúng. Kết quả của nhân vô hướng là một số thực.\n",
    "\n",
    "Có hai cách chính để tính nhân vô hướng:\n",
    "\n",
    "sử dụng công thức cộng sảnh: $\\vec{A} \\cdot \\vec{B} = |\\vec{A}|\\ |\\vec{B}| \\ \\cos(\\theta)$\n",
    "\n",
    "sử dụng dot product: $\\vec{A} \\cdot \\vec{B} = \\sum_{i=1}^n A_i B_i =A_1B_1 + A_2B_2 +....+ A_nB_n$\n",
    "\n",
    "Trong đó, $|\\vec{A}|$ và $|\\vec{B}|$ là module của vector A và B tương ứng, $\\theta$ là góc giữa hai vector, $A_i$ và $B_i$ là các phần tử của vector A và B tương ứng, và n là số chiều của hai vector.\n",
    "\n",
    "Chúng ta có thể bắt gặp tích vô hướng rất nhiều trong machine learning. Bên dưới là một số tình huống thường gặp:\n",
    "\n",
    "- Tích vô hướng có thể được sử dụng để tính giá trị ước lượng của phương trình hồi qui tuyến tính. Ví dụ nếu bạn biết giá nhà được biểu diễn theo diện tích $x_1$ và số phòng ngủ $x_2$ theo công thức: \n",
    "\n",
    "$$y=20x_1 + 10x_2+ 200$$\n",
    "\n",
    "Thì một cách khái quát bạn có thể ước lượng $y$ theo tích vô hướng giữa véc tơ đầu vào $\\mathbf{x}^{\\top} = (x_1, x_2, 1)$ và véc tơ hệ số $\\mathbf{w} = (20, 10, 200)$ như sau:\n",
    " \n",
    "$$\\hat{y} = \\mathbf{x}^{\\top}\\mathbf{w}$$\n",
    "\n",
    "- Tích vô hướng cũng được sử dụng để tính trung bình có trọng số của $\\mathbf{x}$:\n",
    "\n",
    "$$\\bar{\\mathbf{x}} = \\sum_{i=1}^{n} x_i q_i= \\mathbf{x}^{\\top}\\mathbf{q}$$\n",
    "với $\\sum_{i=1}^{n} q_i= 1$\n"
   ]
  },
  {
   "attachments": {},
   "cell_type": "markdown",
   "metadata": {},
   "source": [
    "- Ngoài ra ta có thể tính cos giữa hai véc tơ $\\mathbf{x}$ và $\\mathbf{y}$ sẽ bằng tích vô hướng giữa hai véc tơ.\n",
    "\n",
    "$$\\cos({\\mathbf{x}, \\mathbf{y}}) = \\frac{\\sum_{i=1}^{d} x_i y_i}{ \\sqrt{\\sum_{i=1}^{d} x_i^2} \\sqrt{\\sum_{i=1}^d y_i^2}}= \\frac{\\langle \\mathbf{x}, \\mathbf{y} \\rangle}{\\mathbf{||x||}\\ \\mathbf{||y||}}\n",
    "$$\n",
    "\n",
    "\n",
    "Hàm dot trong numpy có thể sử dụng để tính nhân vô hướng với cú pháp : `numpy.dot(A, B)` hoặc `A.dot(B)`"
   ]
  },
  {
   "cell_type": "code",
   "execution_count": 49,
   "metadata": {},
   "outputs": [
    {
     "name": "stdout",
     "output_type": "stream",
     "text": [
      "x.dot(y) =  20\n",
      "np.dot(x, y) =  20\n"
     ]
    }
   ],
   "source": [
    "x = np.array([1, 2, 3])\n",
    "y = np.array([2, 3, 4])\n",
    "print(\"x.dot(y) = \", x.dot(y))\n",
    "print(\"np.dot(x, y) = \", np.dot(x, y))"
   ]
  },
  {
   "attachments": {},
   "cell_type": "markdown",
   "metadata": {},
   "source": [
    "* **Vector Projection** là một khái niệm trong toán học để miêu tả sự chiếu của một vector A lên một vector B. Nó có thể được tính bằng cách tìm sự tương đồng giữa hai vector và sau đó nhân với vector B. Kết quả cuối cùng là một vector mà chiếu của A lên B.\n",
    "\n",
    "Công thức tính projection của vector A vào B là:\n",
    "\n",
    "$$proj_B(A) = \\frac{A \\cdot B}{||B||^2} * B$$\n",
    "\n",
    "Trong đó,\n",
    "\n",
    "$A.B$ là tích vô hướng của vector A và B, được viết là $A \\cdot B$\n",
    "\n",
    "$||B||^2$ là bình phương độ dài của B, được viết là $||B||^2$.\n",
    "\n",
    "$proj_B(A)$ là vector projection của A vào B, chú ý khi viết sử dụng ký tự _ để chỉ rõ là projection của A vào B\n",
    "\n",
    "\n"
   ]
  },
  {
   "attachments": {},
   "cell_type": "markdown",
   "metadata": {},
   "source": [
    "Vector projection có rất nhiều ứng dụng trong machine learning. Một trong những ứng dụng chính là trong việc giảm chiều dữ liệu (dimensionality reduction). Khi số chiều của dữ liệu quá cao, thì việc xử lý và huấn luyện mô hình trở nên khó khăn và tốn thời gian. Giảm chiều dữ liệu sẽ giúp giảm số chiều của dữ liệu mà không mất nhiều thông tin quan trọng."
   ]
  },
  {
   "attachments": {},
   "cell_type": "markdown",
   "metadata": {},
   "source": [
    "Có nhiều cách để tính projection trong numpy:"
   ]
  },
  {
   "cell_type": "code",
   "execution_count": 50,
   "metadata": {},
   "outputs": [],
   "source": [
    "import numpy as np\n",
    "\n",
    "def vector_projection(a, b):\n",
    "    # Tính tích vô hướng giữa hai vector\n",
    "    dot = np.dot(a, b)\n",
    "    # Tính độ dài của vector B\n",
    "    norm_b = np.linalg.norm(b)\n",
    "    # Tính projection của A lên B\n",
    "    projection = (dot / (norm_b ** 2)) * b\n",
    "    return projection\n",
    "\n",
    "def vector_projection_2(a, b):\n",
    "    # Tính projection của A lên B\n",
    "    projection = (np.inner(a,b)/np.inner(b,b)) * b\n",
    "    return projection\n",
    "\n",
    "def vector_projection_3(a, b):\n",
    "    # Tính projection của A lên B\n",
    "    projection = np.matmul(a,b)/np.matmul(b,b) * b\n",
    "    return projection\n"
   ]
  },
  {
   "cell_type": "code",
   "execution_count": 51,
   "metadata": {},
   "outputs": [
    {
     "name": "stdout",
     "output_type": "stream",
     "text": [
      "[1.37931034 2.06896552 2.75862069]\n",
      "[1.37931034 2.06896552 2.75862069]\n",
      "[1.37931034 2.06896552 2.75862069]\n"
     ]
    }
   ],
   "source": [
    "\n",
    "\n",
    "a = np.array([1, 2, 3])\n",
    "b = np.array([2, 3, 4])\n",
    "\n",
    "p1 = vector_projection(a, b)\n",
    "p2 = vector_projection_2(a, b)\n",
    "p3 = vector_projection_3(a, b)\n",
    "print(p1)\n",
    "print(p2)\n",
    "print(p3)"
   ]
  },
  {
   "attachments": {},
   "cell_type": "markdown",
   "metadata": {},
   "source": [
    "### 1.2.4. Hệ toạ độ cơ sở\n"
   ]
  },
  {
   "attachments": {},
   "cell_type": "markdown",
   "metadata": {},
   "source": [
    "#### 1.2.4.1. Tổ hợp tuyến tính và không gian sinh\n",
    "\n",
    "- **Thế nào là một tổ hợp tuyến tính?**\n",
    "\n",
    "Giả sử $\\mathbf{a}_1, \\mathbf{a}_2, \\dots, \\mathbf{a}_n$ là các véc tơ thuộc không gian $\\mathbb{R}^m$ và $k_1, k_2, \\dots, k_n$ là những số vô hướng. Khi đó _tổ hợp tuyến tính_ (_linear combination_) của $n$ véc tơ $\\mathbf{a}_1, \\mathbf{a}_2, \\dots, \\mathbf{a}_n$ tương ứng với các hệ số $k_i$ là một véc tơ được tính theo phương trình tuyến tính dạng:\n",
    "\n",
    "$$k_1 \\mathbf{a}_1 + k_2 \\mathbf{a}_2 + \\dots + k_n \\mathbf{a}_n = \\mathbf{b} \\tag{1}$$\n",
    "\n",
    "Nếu xét ma trận $\\mathbf{A} = [\\mathbf{a}_1, \\mathbf{a}_2 \\dots ,\\mathbf{a}_n] \\in \\mathbb{R}^{m \\times n}$ có các cột là những véc tơ $\\mathbf{a}_i \\in \\mathbb{R}^{m}$. Khi đó tổ hợp tuyến tính có thể biểu diễn dưới dạng một phép nhân ma trận với véc tơ:\n",
    "\n",
    "$$\\mathbf{A}\\mathbf{k} = \\mathbf{b}$$\n",
    "\n",
    "Lưu ý rằng biểu diễn tổ hợp tuyến tính đối với véc tơ $\\mathbf{b}$ có thể là không duy nhất. Tập hợp tất cả các véc tơ $\\mathbf{b}$ trong phương trình $(1)$ ở trên được gọi là _không gian sinh_ (_span space_) của hệ véc tơ $\\{\\mathbf{a}_1, \\mathbf{a}_2, \\dots, \\mathbf{a}_n\\}$, kí hiệu $\\text{span}(\\mathbf{a}_1, \\dots, \\mathbf{a}_n)$\n"
   ]
  },
  {
   "attachments": {},
   "cell_type": "markdown",
   "metadata": {},
   "source": [
    "- **Hệ véc tơ độc lập tuyến tính là gì?**\n",
    "\n",
    "Một hệ véc tơ $\\{\\mathbf{a}_1, \\mathbf{a}_2, \\dots, \\mathbf{a}_n\\}$ gồm các véc tơ khác 0 là độc lập tuyến tính nếu phương trình:\n",
    "\n",
    "$$k_1 \\mathbf{a}_1 + k_2 \\mathbf{a}_2 + \\dots + k_n \\mathbf{a}_n = 0  \\tag{2}$$\n",
    "\n",
    "có một nghiệm duy nhất là $k_1 = k_2 = \\dots = k_n = 0$\n",
    "\n",
    "Trái lại, nếu tồn tại một nghiệm mà phần tử $k_j \\neq 0$ thì hệ véc tơ là _phụ thuộc tuyến tính_.\n",
    "\n",
    "- **Một số tính chất của tổ hợp tuyến tính**\n",
    "\n",
    "1-. Một hệ véc tơ là phụ thuộc tuyến tính khi và chỉ khi tồn tại một véc tơ trong hệ là tổ hợp tuyến tính của những véc tơ còn lại. Thật vậy, giả sử hệ véc tơ là phụ thuộc tuyến tính, khi đó tồn tại một phần tử $k_j \\neq 0$ sao cho phương trình $(2)$ được thoả mãn. Khi đó:\n",
    "\n",
    "$$\\mathbf{a}_j = \\frac{-k_1}{k_j} \\mathbf{a}_1 + \\dots + \\frac{-k_{j-1}}{k_{j}} \\mathbf{a}_{j-1}+ \\frac{-k_{j+1}}{k_j} \\mathbf{a}_{j+1}+ \\dots +\\frac{-k_n}{k_j} \\mathbf{a}_n \\tag{3}$$\n",
    "\n",
    "Như vậy $\\mathbf{a}_{j}$ là tổ hợp tuyến tính của những véc tơ còn lại. Trong trường hợp phương trình $(3)$ được thoả mãn thì ta cũng suy ra được phương trình $(2)$ có nghiệm $k_j \\neq 0$ và hệ véc tơ là _phụ thuộc tuyến tính_.\n",
    "\n",
    "2-. Tập con khác rỗng của một hệ véc tơ độc lập tuyến tính là một hệ độc lập tuyến tính.\n",
    "\n",
    "3-. Tập hợp các dòng hoặc cột của một ma trận khả nghịch sẽ tạo thành một hệ các véc tơ độc lập tuyến tính.\n",
    "\n",
    "4-. Nếu $\\mathbf{A}$ là một ma trận cao chiều, tức số hàng lớn hơn số cột thì tồn tại véc tơ $\\mathbf{b}$ sao cho $\\mathbf{A}\\mathbf{x} = \\mathbf{b}$ vô nghiệm.\n",
    "\n",
    "5-. Nếu $n > m$ thì $n$ véc tơ bất kì trong không gian $m$ chiều tạo thành một hệ véc tơ phụ thuộc tuyến tính."
   ]
  },
  {
   "attachments": {},
   "cell_type": "markdown",
   "metadata": {},
   "source": [
    "#### 1.2.4.2. Cơ sở của một không gian\n",
    "Một hệ các véc tơ $\\{\\mathbf{a}_1, \\mathbf{a}_2, \\dots, \\mathbf{a}_n \\}$ trong không gian véc tơ $m$ chiều, kí hiệu là $V = \\mathbb{R}^{m}$ được gọi là một cơ sở (_basic_) nếu như điều kiện kiện sau được thoả mãn:\n",
    "\n",
    "1. $V \\equiv \\text{span}(\\mathbf{a}_1, \\dots, \\mathbf{a}_n)$\n",
    "\n",
    "2. ${\\mathbf{a}_1, \\mathbf{a}_2, \\dots, \\mathbf{a}_n}$ là một hệ véc tơ độc lập tuyến tính.\n",
    "\n",
    "Mỗi một véc tơ đều có một biểu diễn duy nhất dưới dạng một tổ hợp tuyển tính của những véc tơ của các $\\mathbf{a}_i$.\n",
    "\n",
    "Ví dụ, trong không gian $R^3$, một cơ sở thông dụng là cơ sở địa phương, bao gồm các vector cơ bản (1,0,0), (0,1,0), (0,0,1), mà mỗi vector cơ bản biểu diễn cho một chiều trong không gian."
   ]
  },
  {
   "attachments": {},
   "cell_type": "markdown",
   "metadata": {},
   "source": [
    "#### 1.2.4.3. Biến đổi hệ cơ sở của véc tơ\n",
    "\n",
    "Trong không gian $m$ chiều thì mọi véc tơ đều có thể biểu diễn thông qua hệ véc tơ đơn vị $(\\mathbf{e}_1, \\mathbf{e}_2, \\dots , \\mathbf{e}_m)$. Trong đó véc tơ $\\mathbf{e}_i$ được gọi là véc tơ đơn vị có phần tử thứ $i$ là 1, các phần tử còn lại bằng 0.\n",
    "\n",
    "Bản chất của một phép nhân ma trận với một véc tơ là một phép biến đổi hệ cơ sở mà ở đó mỗi một cột của ma trận được xem như một véc tơ cơ sở. Giả sử ma trận $\\mathbf{A} \\in \\mathbb{R}^{m \\times n}$ nhân với véc tơ $\\mathbf{x}\\in \\mathbb{R}^{n}$.\n",
    "\n",
    "$$\\mathbf{A} \\mathbf{x} = \\mathbf{a}^{(1)} x_1 + \\mathbf{a}^{(2)} x_2 + \\dots + \\mathbf{a}^{(m)}  x_m = \\mathbf{y}$$\n",
    "\n",
    "Trong đó $\\mathbf{a}^{(i)}$ có thể được xem như là một véc tơ cột thứ $i$ của ma trận $\\mathbf{A}$. Ta có thể xem như véc tơ $\\mathbf{y}$ được biểu diễn thông qua các véc tơ cơ sở cột mà toạ độ tương ứng với mỗi chiều trong hệ cơ sở là các $x_i$."
   ]
  },
  {
   "attachments": {},
   "cell_type": "markdown",
   "metadata": {},
   "source": [
    "## 1.3. Ma trận\n",
    "\n",
    "Ma trận (Matrix) là một cấu trúc dữ liệu quan trọng trong đại số tuyến tính, nó là một bảng số các số thực hoặc phức. Mỗi phần tử của ma trận được gọi là một phần tử và có thể được xác định bằng số hàng và số cột tương ứng.\n",
    "\n",
    "Ma trận A có kích thước m x n có thể được biểu diễn bằng công thức sau:\n",
    "\n",
    "$$\\begin{split}\\mathbf{A}=\\begin{bmatrix} \n",
    "a_{11} & a_{12} & \\cdots & a_{1n} \\\\ \n",
    "a_{21} & a_{22} & \\cdots & a_{2n} \\\\ \n",
    "\\vdots & \\vdots & \\ddots & \\vdots \\\\ \n",
    "a_{m1} & a_{m2} & \\cdots & a_{mn} \\\\ \n",
    "\\end{bmatrix}.\\end{split}$$\n",
    "\n",
    "Trong đó, $a_{ij}$ là phần tử thứ i trong hàng và thứ j trong cột của ma trận A.\n",
    "\n",
    "Ma trận có rất nhiều ứng dụng trong toán học và khoa học máy tính, nó được sử dụng để mô tả quan hệ giữa các biến số, tính toán các hàm số, và giải các phương trình hệ phương trình."
   ]
  },
  {
   "cell_type": "code",
   "execution_count": 102,
   "metadata": {},
   "outputs": [
    {
     "data": {
      "text/plain": [
       "array([[100, 120,  80,  90, 105,  95],\n",
       "       [  2,   3,   2,   2,   3,   2]])"
      ]
     },
     "execution_count": 102,
     "metadata": {},
     "output_type": "execute_result"
    }
   ],
   "source": [
    "import numpy as np\n",
    "\n",
    "X = np.array([[100, 120, 80, 90, 105, 95], \n",
    "              [2, 3, 2, 2, 3, 2]])\n",
    "              \n",
    "X"
   ]
  },
  {
   "attachments": {},
   "cell_type": "markdown",
   "metadata": {},
   "source": [
    "### 1.3.1. Các ma trận đặc biệt\n",
    "* Ma trận vuông: Ma trận vuông là ma trận có số dòng bằng số cột. Ma trận vuông rất quan trọng vì khi tìm nghiệm cho hệ phương trình, từ ma trận vuông ta có thể chuyển sang ma trận tam giác. Ma trận vuông cũng là ma trận có thể tính được giá trị định thức. Tóm lại ma trận $\\mathbf{A} \\in \\mathbb{R}^{m \\times n}$ vuông nếu $m=n$. \n",
    "\n",
    "* Ma trận đơn vị: Là ma trận có đường chéo chính bằng 1, các phần tử còn lại bằng $0$. Ví dụ ma trận đơn vị kích thước $3 \\times 3$ được ký hiệu là $\\mathbf{I}_3$ có gía trị là:\n",
    "\n",
    "$$\\begin{split}\\mathbf{I}_3=\n",
    "\\begin{bmatrix} \n",
    "1 & 0 & 0 \\\\ \n",
    "0 & 1 & 0 \\\\ \n",
    "0 & 0 & 1 \n",
    "\\end{bmatrix}\n",
    "\\end{split}$$\n",
    "\n",
    "Tóm lại, $\\mathbf{A}$ là ma trận đơn vị nếu nó là ma trận vuông và $a_{ij} = 1$ nếu $i=j$ và $a_{ij} = 0$ nếu $i \\neq j$.\n",
    "\n",
    "* Ma trận đường chéo: Là ma trận có các phần tử trên đường chéo chính khác 0 và các phần tử còn lại bằng 0. Ví dụ về ma trận đường chéo:\n",
    "\n",
    "\n",
    "$$\\begin{split}\\mathbf{A}=\n",
    "\\begin{bmatrix} \n",
    "1 & 0 & 0 \\\\ \n",
    "0 & 2 & 0 \\\\ \n",
    "0 & 0 & 3 \n",
    "\\end{bmatrix}\n",
    "\\end{split}$$\n",
    "\n",
    "\n",
    "* Ma trận chuyển vị: $\\mathbf{B}$ là ma trận chuyển vị của $\\mathbf{A}$ nếu $b_{ij} = a_{ji}$ với mọi $i, j$. Dễ hiểu hơn, tức là mọi dòng của ma trận $A$ sẽ là cột của ma trận $\\mathbf{B}$. Ví dụ:\n",
    "\n",
    "$$\\begin{split}\\mathbf{A}=\n",
    "\\begin{bmatrix} \n",
    "1 & 2 & 3 \\\\ \n",
    "3 & 2 & 1\n",
    "\\end{bmatrix}\n",
    "\\end{split}, \\begin{split}\\mathbf{B}=\n",
    "\\begin{bmatrix} \n",
    "1 & 3 \\\\\n",
    "2 & 2 \\\\ \n",
    "3 & 1\\end{bmatrix}\n",
    "\\end{split}$$\n",
    "\n",
    "\n",
    "Ký hiệu chuyển vị của ma trận $\\mathbf{A}$ là $\\mathbf{A}^{\\intercal}$"
   ]
  },
  {
   "attachments": {},
   "cell_type": "markdown",
   "metadata": {},
   "source": [
    "### 1.3.2. Các thuộc tính của ma trận\n",
    "Một ma trận được đặc trưng bởi dòng và cột."
   ]
  },
  {
   "cell_type": "code",
   "execution_count": 103,
   "metadata": {},
   "outputs": [
    {
     "data": {
      "text/plain": [
       "(2, 3)"
      ]
     },
     "execution_count": 103,
     "metadata": {},
     "output_type": "execute_result"
    }
   ],
   "source": [
    "import numpy as np\n",
    "A = np.array([[1, 2, 3], \n",
    "              [3, 2, 1]])\n",
    "\n",
    "# shape của matrix A\n",
    "A.shape"
   ]
  },
  {
   "attachments": {},
   "cell_type": "markdown",
   "metadata": {},
   "source": [
    "### 1.3.3. Các phép tính trên ma trận\n",
    "Hai ma trận có cùng kích thước chúng ta có thể thực hiện các phép:\n",
    "\n",
    "- Cộng trừ hai ma trận: cho phép ta thực hiện phép cộng hoặc trừ hai ma trận cùng kích thước với nhau.\n",
    "- Nhân ma trận với một số (scalar): cho phép ta nhân mỗi phần tử của ma trận với một số.\n",
    "- Nhân ma trận với ma trận: Ma trận thu được cũng có cùng kích thước và các phần tử của nó được tính dựa trên các phần tử có cùng vị trí trên cả hai ma trận $A$ và $B$.\n",
    "\n",
    "#### 1.3.3.1. Tích hadamard hoặc element-wise\n",
    "\n",
    "$$\n",
    "\\begin{split}\\mathbf{A} \\odot \\mathbf{B} =\n",
    "\\begin{bmatrix}\n",
    "    a_{11}  b_{11} & a_{12}  b_{12} & \\dots  & a_{1n}  b_{1n} \\\\\n",
    "    a_{21}  b_{21} & a_{22}  b_{22} & \\dots  & a_{2n}  b_{2n} \\\\\n",
    "    \\vdots & \\vdots & \\ddots & \\vdots \\\\\n",
    "    a_{m1}  b_{m1} & a_{m2}  b_{m2} & \\dots  & a_{mn}  b_{mn}\n",
    "\\end{bmatrix}\\end{split}\n",
    "$$\n"
   ]
  },
  {
   "cell_type": "code",
   "execution_count": 104,
   "metadata": {},
   "outputs": [
    {
     "data": {
      "text/plain": [
       "array([[2, 2, 6],\n",
       "       [3, 6, 0]])"
      ]
     },
     "execution_count": 104,
     "metadata": {},
     "output_type": "execute_result"
    }
   ],
   "source": [
    "import numpy as np\n",
    "A = np.array([[1, 2, 3], \n",
    "              [3, 2, 1]])\n",
    "\n",
    "B = np.array([[2, 1, 2], \n",
    "             [1, 3, 0]])\n",
    "\n",
    "A*B"
   ]
  },
  {
   "attachments": {},
   "cell_type": "markdown",
   "metadata": {},
   "source": [
    "Các phép cộng và trừ cũng tương tự"
   ]
  },
  {
   "cell_type": "code",
   "execution_count": 105,
   "metadata": {},
   "outputs": [
    {
     "name": "stdout",
     "output_type": "stream",
     "text": [
      "A-B: \n",
      " [[-1  1  1]\n",
      " [ 2 -1  1]]\n",
      "A+B: \n",
      " [[3 3 5]\n",
      " [4 5 1]]\n"
     ]
    }
   ],
   "source": [
    "print(\"A-B: \\n\", A-B)\n",
    "print(\"A+B: \\n\", A+B)"
   ]
  },
  {
   "attachments": {},
   "cell_type": "markdown",
   "metadata": {},
   "source": [
    "#### 1.3.3.2 Tích thông thường\n",
    "Tích thông thường giữa hai ma trận $\\mathbf{A}$ có kích thước $m \\times n$ và $\\mathbf{B}$ có kích thước $n \\times p$ là một ma trận có kích thước $m \\times p$. Ma trận output $\\mathbf{C}$ có giá trị tại phần tử $c_{ij} = \\mathbf{A}^{(i)} \\mathbf{B}_{j}$ (dòng thứ $i$ của ma trận $\\mathbf{A}$ nhân với cột thứ $j$ của ma trận $\\mathbf{B}$).\n",
    "\n",
    "$$\n",
    "\\begin{split}\\mathbf{A}_{m \\times n} \\mathbf{B}_{n \\times p} =\n",
    "\\begin{bmatrix}\n",
    "    \\mathbf{A}^{(1)}  \\mathbf{B}_{1} & \\mathbf{A}^{(1)}  \\mathbf{B}_{2} & \\dots  & \\mathbf{A}^{(1)}  \\mathbf{B}_{p} \\\\\n",
    "    \\mathbf{A}^{(2)}  \\mathbf{B}_{1} & \\mathbf{A}^{(2)}  \\mathbf{B}_{2} & \\dots  & \\mathbf{A}^{(2)}  \\mathbf{B}_{p} \\\\\n",
    "    \\vdots & \\vdots & \\ddots & \\vdots \\\\\n",
    "    \\mathbf{A}^{(m)}  \\mathbf{B}_{1} & \\mathbf{A}^{(m)}  \\mathbf{B}_{2} & \\dots  & \\mathbf{A}^{(m)}  \\mathbf{B}_{p} \\\\\n",
    "\\end{bmatrix}\\end{split}_{m \\times p}\n",
    "$$\n",
    "\n",
    "Với $\\mathbf{A}^{(i)}$ là véc tơ dòng và $\\mathbf{A}_{j}$ là véc tơ cột."
   ]
  },
  {
   "cell_type": "code",
   "execution_count": 106,
   "metadata": {},
   "outputs": [
    {
     "data": {
      "text/plain": [
       "array([[ 7, 10],\n",
       "       [ 9, 10]])"
      ]
     },
     "execution_count": 106,
     "metadata": {},
     "output_type": "execute_result"
    }
   ],
   "source": [
    "import numpy as np\n",
    "A = np.array([[1, 2, 3], \n",
    "              [3, 2, 1]])\n",
    "\n",
    "B = np.array([[2, 1], \n",
    "              [1, 3],\n",
    "              [1, 1]])\n",
    "\n",
    "A@B"
   ]
  },
  {
   "attachments": {},
   "cell_type": "markdown",
   "metadata": {},
   "source": [
    "#### 1.3.3.3. Tích giữa ma trận với vector\n",
    "Bản chất của phép nhân một ma trận với một véc tơ là một **phép biến hình(Transformer)**. Giả sử bạn có ma trận $\\mathbf{A} \\in \\mathbb{R}^{m \\times n}$ và véc tơ $\\mathbf{x} \\in \\mathbb{R}^{n}$. Khi đó tích giữa ma trận $\\mathbf{A}$ với véc tơ $\\mathbf{x}$ là một véc tơ $\\mathbf{y}$ trong không gian mới $\\mathbf{y} \\in \\mathbb{R}^{m}$. $\\mathbf{y}$ được xem như ảnh của $\\mathbf{x}$ khi chiếu lên không gian $m$ chiều thông qua hàm ánh xạ $f(\\mathbf{x}) = \\mathbf{A}\\mathbf{x}$.\n",
    "\n",
    "$$\\mathbf{A}\\mathbf{x} =\n",
    "\\begin{bmatrix}\n",
    "\\mathbf{a}^\\top_{1} \\\\\n",
    "\\mathbf{a}^\\top_{2} \\\\\n",
    "\\vdots \\\\\n",
    "\\mathbf{a}^\\top_m \\\\\n",
    "\\end{bmatrix} \\mathbf{x} = \\begin{bmatrix}\n",
    "\\mathbf{a}^\\top_{1} \\mathbf{x} \\\\\n",
    "\\mathbf{a}^\\top_{2} \\mathbf{x} \\\\\n",
    "\\vdots \\\\\n",
    "\\mathbf{a}^\\top_m \\mathbf{x} \\\\\n",
    "\\end{bmatrix} = \\begin{bmatrix}\n",
    "y_1 \\\\\n",
    "y_2 \\\\\n",
    "\\vdots \\\\\n",
    "y_m\n",
    "\\end{bmatrix} = \\mathbf{y}$$"
   ]
  },
  {
   "attachments": {},
   "cell_type": "markdown",
   "metadata": {},
   "source": [
    "Như vậy thông qua ma trận $\\mathbf{A}$ chúng ta đã biến đổi véc tơ $\\mathbf{x}$ từ không gian $n$ chiều sang véc tơ $\\mathbf{y}$ trong không gian $m$ chiều. Khi lựa chọn số chiều $m$ trong không gian mới nhỏ hơn, chúng ta thu được một đầu ra $\\mathbf{y}$ là hình ảnh giảm chiều của véc tơ đầu vào $\\mathbf{x}$. Phép biến đổi này thường xuyên được áp dụng trong machine learning để nhằm giảm chiều dữ liệu, đặc biệt là ở những layer fully connected cuối cùng của mạng nơ ron. Trong _phân tích suy biến_ (_singular decomposition_) chúng ta cũng sử dụng phép biến đổi không gian để tạo thành một véc tơ mới sao cho tích vô hướng giữa hai véc tơ bất kì được bảo toàn. Bạn sẽ được đọc thêm về phép phân tích suy biến ở những chương sau. Các phép xoay ảnh cũng biến đổi toạ độ các điểm sang không gian mới bằng cách nhân véc tơ toạ độ của chúng với ma trận xoay rotation.\n",
    "\n",
    "Một ứng dụng đặc biệt quan trọng của phép nhân ma trận với một véc tơ là trong hồi qui tuyến tính. Để tính được giá trị dự báo của biến mục tiêu $\\hat{y}$ chúng ta cần nhân ma trận đầu vào $\\mathbf{X}$ với véc tơ hệ số ước lượng $\\mathbf{w}$. Ví dụ, khi đã biết được các biến đầu vào gồm: diện tích và số phòng ngủ như các dòng của ma trận bên dưới:"
   ]
  },
  {
   "cell_type": "code",
   "execution_count": 107,
   "metadata": {},
   "outputs": [],
   "source": [
    "import numpy as np\n",
    "\n",
    "X = np.array([[100, 120, 80, 90, 105, 95], \n",
    "              [2, 3, 2, 2, 3, 2]])"
   ]
  },
  {
   "attachments": {},
   "cell_type": "markdown",
   "metadata": {},
   "source": [
    "Và hệ số hồi qui tương ứng với với chúng lần lượt là $\\mathbf{w} = (10, 100)$. Khi đó giá nhà có thể được ước lượng bằng tích $\\mathbf{y} = \\mathbf{X}^{\\top}\\mathbf{w}$"
   ]
  },
  {
   "cell_type": "code",
   "execution_count": 108,
   "metadata": {},
   "outputs": [
    {
     "data": {
      "text/plain": [
       "array([[1200],\n",
       "       [1500],\n",
       "       [1000],\n",
       "       [1100],\n",
       "       [1350],\n",
       "       [1150]])"
      ]
     },
     "execution_count": 108,
     "metadata": {},
     "output_type": "execute_result"
    }
   ],
   "source": [
    "w = np.array([[10], [100]])\n",
    "y = X.T@w\n",
    "y"
   ]
  },
  {
   "attachments": {},
   "cell_type": "markdown",
   "metadata": {},
   "source": [
    "Các trường hợp **Transformer** đặc biệt\n",
    "- **Phép tịnh tiến**:\n",
    "$$P' = Px + T =\n",
    "\\begin{bmatrix} \n",
    "x\\\\ \n",
    "y \n",
    "\\end{bmatrix} +\n",
    "\\begin{bmatrix} \n",
    "tx\\\\ \n",
    "ty \n",
    "\\end{bmatrix}$$"
   ]
  },
  {
   "cell_type": "code",
   "execution_count": 8,
   "metadata": {},
   "outputs": [
    {
     "name": "stdout",
     "output_type": "stream",
     "text": [
      "[[ 2  2  5]\n",
      " [ 4  6  9]\n",
      " [ 7  8 10]]\n"
     ]
    }
   ],
   "source": [
    "import numpy as np\n",
    "\n",
    "# Tạo ma trận 3x3\n",
    "m = np.array([[1, 2, 3], [4, 5, 6], [7, 8, 9]])\n",
    "\n",
    "# Tạo ma trận tịnh tiến\n",
    "T = np.array([[1, 0, 2], [0, 1, 3], [0, 0, 1]])\n",
    "\n",
    "# Tịnh tiến ma trận\n",
    "translated_m = m + T\n",
    "\n",
    "print(translated_m)"
   ]
  },
  {
   "attachments": {},
   "cell_type": "markdown",
   "metadata": {},
   "source": [
    "- Phép quay: là một phép biến đổi thông dụng trong transformer khi sử dụng ma trận. Nó cho phép xoay một đối tượng hoặc hình ảnh theo một góc quanh một trục hoặc một điểm.\n",
    "\n",
    "Trong ma trận, phép quay được thực hiện bằng cách sử dụng một ma trận quay.\n",
    "\n",
    "Trong 2 chiều có thể sử dụng ma trận quay theo công thức:\n",
    "\n",
    "$$ P' = S.P = \\begin{bmatrix} cos(\\theta) & -sin(\\theta) \\\\ sin(\\theta) & cos(\\theta) \\end{bmatrix} \\begin{bmatrix} x \\\\ y \\end{bmatrix} = \\begin{bmatrix} x' \\\\ y' \\end{bmatrix} $$"
   ]
  },
  {
   "attachments": {},
   "cell_type": "markdown",
   "metadata": {},
   "source": [
    "Trong công thức ma trận quay trong 2 chiều đã cho, giá trị $\\theta$ là góc quay của đối tượng hoặc hình ảnh. Nó xác định mức độ xoay của đối tượng hoặc hình ảnh theo góc đơn vị radian.\n",
    "\n",
    "Ví dụ, nếu giá trị $\\theta$ là $\\frac{\\pi}{4}$ radian, điều đó có nghĩa là đối tượng hoặc hình ảnh sẽ được quay 45 độ theo chiều kim đồng hồ.\n",
    "\n",
    "Còn nếu giá trị $\\theta$ là $\\frac{\\pi}{2}$ radian, điều đó có nghĩa là đối tượng hoặc hình ảnh sẽ được quay 90 độ.\n",
    "\n",
    "Các góc quay nhỏ hơn 0 radian hoặc lớn hơn 2pi radian sẽ được chuyển về trong khoảng từ 0 đến 2pi radian."
   ]
  },
  {
   "attachments": {},
   "cell_type": "markdown",
   "metadata": {},
   "source": [
    "- Phép tỉ lệ: Phép tỉ lệ là một phép biến đổi thông dụng trong transformer khi sử dụng ma trận, nó cho phép tăng hoặc giảm kích thước của một đối tượng hoặc hình ảnh theo tỷ lệ nhất định. Trong 2 chiều, phép tỉ lệ được thực hiện bằng cách sử dụng ma trận tỉ lệ $\\begin{bmatrix} s_x & 0 \\\\ 0 & s_y \\end{bmatrix}$ , trong đó $s_x$ và $s_y$ là tỷ lệ tăng hoặc giảm kích thước theo chiều $x$ và $y$ tương ứng:\n",
    "\n",
    "$$P' = S.P = \\begin{bmatrix} s_x & 0 \\\\ 0 & s_y \\end{bmatrix}\\begin{bmatrix} x \\\\ y \\end{bmatrix} = \\begin{bmatrix} x' \\\\ y' \\end{bmatrix}$$\n"
   ]
  },
  {
   "attachments": {},
   "cell_type": "markdown",
   "metadata": {},
   "source": [
    "- Phép đối xứng: Phép đối xứng theo góc theta là một loại biến đổi thông dụng trong transformer khi sử dụng ma trận. Nó cho phép đối xứng một đối tượng hoặc hình ảnh qua một đường thẳng góc với trục tọa độ.\n",
    "\n",
    "Công thức ma trận đối xứng qua góc theta trong 2 chiều là :\n",
    "\n",
    "$$P' = S.P = \\begin{bmatrix}\\cos{2\\theta} & \\sin{2\\theta} \\\\ \\sin{2\\theta} & -\\cos{2\\theta}\\end{bmatrix}\\begin{bmatrix}x \\\\ y\\end{bmatrix} = \\begin{bmatrix}x' \\\\ y'\\end{bmatrix}$$"
   ]
  },
  {
   "attachments": {},
   "cell_type": "markdown",
   "metadata": {},
   "source": [
    "#### 1.3.3.4. Ma trận đơn vị\n",
    "Hàm numpy.eye() nhận vào một tham số là số hàng (hoặc cột) của ma trận đơn vị và trả về ma trận đơn vị với kích thước nxn, trong đó giá trị trên đường chéo chính là 1, còn lại là 0.\n",
    "\n",
    "Ví dụ:"
   ]
  },
  {
   "cell_type": "code",
   "execution_count": null,
   "metadata": {},
   "outputs": [
    {
     "name": "stdout",
     "output_type": "stream",
     "text": [
      "[[1. 0. 0.]\n",
      " [0. 1. 0.]\n",
      " [0. 0. 1.]]\n"
     ]
    }
   ],
   "source": [
    "import numpy as np\n",
    "\n",
    "I = np.eye(3)\n",
    "print(I)\n"
   ]
  },
  {
   "attachments": {},
   "cell_type": "markdown",
   "metadata": {},
   "source": [
    "#### 1.3.3.5. Phương pháp khử"
   ]
  },
  {
   "attachments": {},
   "cell_type": "markdown",
   "metadata": {},
   "source": [
    "Ví dụ: Tìm nghiệm hệ phương trình sau bằng phương pháp khử:\n",
    "\n",
    "$\\begin{cases}\n",
    "3x + 2y - z = 1 \\\\\n",
    "2x - 2y + 4z = -2 \\\\\n",
    "-x + \\frac{1}{2}y - z = 0\n",
    "\\end{cases}$\n",
    "\n",
    "Bước 1: Chuyển hệ phương trình thành dạng ma trận:\n",
    "$\\begin{bmatrix}\n",
    "3 & 2 & -1 \\\\\n",
    "2 & -2 & 4 \\\\\n",
    "-1 & \\frac{1}{2} & -1 \\\\\n",
    "\\end{bmatrix}\n",
    "\\begin{bmatrix}\n",
    "x \\\\\n",
    "y \\\\\n",
    "z\n",
    "\\end{bmatrix} =\n",
    "\\begin{bmatrix}\n",
    "1 \\\\\n",
    "-2 \\\\\n",
    "0\n",
    "\\end{bmatrix}$\n",
    "\n",
    "Bước 2: Giảm hệ phương trình bằng cách sử dụng các phép nhân và cộng trên các hàng của ma trận. Ví dụ, để giảm hàng thứ hai, ta có thể nhân hàng thứ nhất với 2 và trừ đi hàng thứ hai.\n",
    "\n",
    "$\\begin{bmatrix}\n",
    "3 & 2 & -1 \\\\\n",
    "0 & -8 & 10 \\\\\n",
    "-1 & \\frac{1}{2} & -1 \\\\\n",
    "\\end{bmatrix}\n",
    "\\begin{bmatrix}\n",
    "x \\\\\n",
    "y \\\\\n",
    "z\n",
    "\\end{bmatrix} =\n",
    "\\begin{bmatrix}\n",
    "1 \\\\\n",
    "-6 \\\\\n",
    "0\n",
    "\\end{bmatrix}$\n",
    "\n",
    "Bước 3: Tiếp tục giảm hệ phương trình bằng cách sử dụng các phép nhân và cộng trên các hàng của ma trận cho đến khi hệ phương trình trở nên dễ giải được.\n",
    "\n",
    "$\\begin{bmatrix}\n",
    "3 & 2 & -1 \\\\\n",
    "0 & -8 & 10 \\\\\n",
    "0 & -1 & -1 \\\\\n",
    "\\end{bmatrix}\n",
    "\\begin{bmatrix}\n",
    "x \\\\\n",
    "y \\\\\n",
    "z\n",
    "\\end{bmatrix} =\n",
    "\\begin{bmatrix}\n",
    "1 \\\\\n",
    "-6 \\\\\n",
    "-1\n",
    "\\end{bmatrix}$"
   ]
  },
  {
   "attachments": {},
   "cell_type": "markdown",
   "metadata": {},
   "source": [
    "#### 1.3.3.5. Ma trận nghịch đảo\n",
    "- là một ma trận mà khi nhân với ma trận ban đầu sẽ cho kết quả là ma trận đơn vị. Chỉ có ma trận vuông mới có thể tìm được ma trận nghịch đảo."
   ]
  },
  {
   "attachments": {},
   "cell_type": "markdown",
   "metadata": {},
   "source": [
    " Ma trận đảo của một ma trận A là một ma trận $A^-1$ sao cho $$A * A^-1 = I$$ ($I$ là ma trận đơn vị)\n",
    "\n",
    "Trong Numpy, bạn có thể sử dụng hàm `numpy.linalg.inv()` để tính ma trận đảo của một ma trận cho trước."
   ]
  },
  {
   "cell_type": "code",
   "execution_count": 9,
   "metadata": {},
   "outputs": [
    {
     "name": "stdout",
     "output_type": "stream",
     "text": [
      "[[ 3.15251974e+15 -6.30503948e+15  3.15251974e+15]\n",
      " [-6.30503948e+15  1.26100790e+16 -6.30503948e+15]\n",
      " [ 3.15251974e+15 -6.30503948e+15  3.15251974e+15]]\n"
     ]
    }
   ],
   "source": [
    "import numpy as np\n",
    "\n",
    "# Tạo ma trận 3x3\n",
    "m = np.array([[1, 2, 3], [4, 5, 6], [7, 8, 9]])\n",
    "\n",
    "# Tính ma trận đảo\n",
    "inverse_m = np.linalg.inv(m)\n",
    "print(inverse_m)"
   ]
  },
  {
   "attachments": {},
   "cell_type": "markdown",
   "metadata": {},
   "source": [
    "#### 1.3.3.6. Chuyển vị ma trận\n",
    "- Công thức chuyển vị ma trận là:\n",
    "\n",
    "$$(A^T){i,j} = A{j,i}$$\n",
    "\n",
    "Trong đó,\n",
    "\n",
    "A là ma trận ban đầu cần chuyển vị\n",
    "A^T là ma trận chuyển vị của A\n",
    "Với i và j là vị trí của từng phần tử trong ma trận A."
   ]
  },
  {
   "cell_type": "code",
   "execution_count": 10,
   "metadata": {},
   "outputs": [
    {
     "name": "stdout",
     "output_type": "stream",
     "text": [
      "[[1 4 7]\n",
      " [2 5 8]\n",
      " [3 6 9]]\n",
      "[[1 4 7]\n",
      " [2 5 8]\n",
      " [3 6 9]]\n",
      "[[1 4 7]\n",
      " [2 5 8]\n",
      " [3 6 9]]\n"
     ]
    }
   ],
   "source": [
    "import numpy as np\n",
    "\n",
    "A = np.array([[1, 2, 3], [4, 5, 6], [7, 8, 9]])\n",
    "A_T = np.transpose(A)\n",
    "print(A_T)\n",
    "\n",
    "A_T = A.T\n",
    "print(A_T)\n",
    "\n",
    "A_T = A.transpose()\n",
    "print(A_T)\n"
   ]
  },
  {
   "attachments": {},
   "cell_type": "markdown",
   "metadata": {},
   "source": [
    "#### 1.3.3.7. Định thức của ma trận\n",
    "là một số thực mà ta dùng để xác định tính đối xứng hay không của ma trận, được ký hiệu bằng $|A|$ hoặc $det(A)$. Định thức của ma trận có thể được tính bằng cách tính dãy tích các phần tử trên chéo chính của ma trận cộng lại.\n",
    "\n",
    "Giả sử ta có một ma trận vuông $\\mathbf{A}$ như sau:\n",
    "\n",
    "$$\\mathbf{A}=\\begin{bmatrix} \n",
    "a_{11} & a_{12} & \\dots & a_{1n} \\\\ \n",
    "a_{21} & a_{22} & \\dots & a_{2n} \\\\ \n",
    "\\dots & \\dots & \\ddots & \\dots \\\\ \n",
    "a_{n1} & a_{n2} & \\dots & a_{nn} \\\\ \n",
    "\\end{bmatrix}$$\n",
    "\n",
    "Định thức của một ma trận $\\mathbf{A}$  được tính theo công thức:\n",
    "\n",
    "$$\\det(\\mathbf{A})= \\sum_{(\\sigma_1, \\sigma_2, \\dots, \\sigma_n) \\in \\mathcal{S}} \\text{sgn}(\\sigma) a_{1\\sigma_1}a_{2\\sigma_2}\\cdots a_{n\\sigma_n}$$\n",
    "\n",
    "Trong đó $\\sigma=(\\sigma_1, \\sigma_2, \\dots, \\sigma_n)$ là một phép hoán vị các thành phần của tập hợp $n$ số tự nhiên đầu tiên $O = \\{1, 2, \\dots, n\\}$. Tập hợp tất cả các hoán vị của $n$ số tự nhiên này còn được kí hiệu là $\\mathcal{S}$. Hàm $\\text{sgn}(\\sigma)$ là một hàm nhận hai gía trị $\\{1, -1\\}$. Nếu số lần hoán vị $\\sigma$ để biến đổi trở về tập $O$ là chẵn thì nhận giá trị 1 và lẻ thì nhận giá trị -1.\n",
    "\n",
    "Ngoài ra định thức của ma trận $\\mathbf{A}$ có thể được khai triển theo các _ma trận phần bù_ $\\mathbf{A}_{ij}$ của ma trận $\\mathbf{A}$. Trong đó ma trận phần bù $\\mathbf{A}_{ij}$ là ma trận được tạo thành bằng cách xoá đi dòng thứ $i$ và cột thứ $j$ của ma trận $\\mathbf{A}$.\n",
    "\n",
    "$$|A| = \\sum_{k=1}^n (-1)^{i+k} A_{i,k} M_{i,k} $$\n",
    "\n",
    "Trong đó:\n",
    "\n",
    "$A$ là ma trận cần tính định thức.\n",
    "\n",
    "$M_{i,k}$ là ma trận con của $A$ với dòng $i$ và cột $k$ đã bị loại bỏ.\n",
    "\n",
    "$i$,$k$ là vị trí của phần tử trong ma trận $A$"
   ]
  },
  {
   "attachments": {},
   "cell_type": "markdown",
   "metadata": {},
   "source": [
    "Trong `numpy`, định thức có thể được tính toán khá dễ dàng thông qua hàm `np.linalg.det()`."
   ]
  },
  {
   "cell_type": "code",
   "execution_count": 11,
   "metadata": {},
   "outputs": [
    {
     "data": {
      "text/plain": [
       "-2.0000000000000004"
      ]
     },
     "execution_count": 11,
     "metadata": {},
     "output_type": "execute_result"
    }
   ],
   "source": [
    "import numpy as np\n",
    "\n",
    "A = np.array([[1, 2],\n",
    "              [3, 4]])\n",
    "\n",
    "# Định thức của ma trận\n",
    "np.linalg.det(A)"
   ]
  },
  {
   "attachments": {},
   "cell_type": "markdown",
   "metadata": {},
   "source": [
    "Định thức có vai trò rất quan trọng trong đại số tuyến tính. Thông qua định thức, chúng ta có thể biết được hệ các véc tơ dòng (hoặc cột) của một ma trận là độc lập tuyến tính hay phụ thuộc tuyến tính? Hệ phương trình tương ứng với ma trận có thể có bao nhiêu nghiệm? Bên dưới là một số tính chất của định thức:\n",
    "\n",
    "1-. Định thức chỉ tồn tại trên những ma trận vuông.\n",
    "\n",
    "2-. $\\text{det}(\\mathbf{A}) = \\text{det}(\\mathbf{A}^{\\intercal})$\n",
    "\n",
    "3-. $\\det(\\mathbf{I}) = 1$\n",
    "\n",
    "4-. Một ma trận đường chéo thì có định thức bằng tích các phần tử nằm trên đường chéo. Ma trận đường chéo còn được kí hiệu thông qua các phần tử trên đường chéo là $\\text{diag}(a_1, a_2, \\dots, a_m)$. Tức là nếu:\n",
    "\n",
    "$$\\mathbf{A} = \\text{diag}(a_1, a_2, \\dots, a_m)=\\begin{bmatrix} \n",
    "a_{1} & 0 & \\dots & 0\\\\ \n",
    "0 & a_{2} & \\dots & 0\\\\ \n",
    "\\dots & \\dots & \\ddots & \\dots\\\\ \n",
    "0 & 0 & \\dots & a_{m}\\\\ \n",
    "\\end{bmatrix}$$\n",
    "\n",
    "thì:\n",
    "\n",
    "$$\\text{det}(\\mathbf{A}_{m \\times m}) = a_1.a_2 \\dots a_m$$\n",
    "\n",
    "\n",
    "5-. Nếu $\\mathbf{A}, \\mathbf{B}$ là những ma trận vuông cùng kích thước thì \n",
    "\n",
    "$$\\text{det}(\\mathbf{AB}) = \\text{det}(\\mathbf{BA}) = \\det({\\mathbf{A}}) \\det({\\mathbf{B}})$$\n",
    "\n",
    "Cũng từ tính chất này ta suy ra:\n",
    "\n",
    "$$\\det{(\\mathbf{A} \\mathbf{B} \\mathbf{C})} = \\det(\\mathbf{A}) \\det(\\mathbf{B}) \\det(\\mathbf{C})$$\n",
    "\n",
    "6-. Ma trận vuông $\\mathbf{A}$ khả nghịch thì \n",
    "\n",
    "$$\\text{det}(\\mathbf{A}) = \\frac{1}{\\text{det}{(\\mathbf{A}^{-1})}}$$\n",
    "\n",
    "Từ tính chất này ta cũng suy ra một ma trận khả nghịch thì định thức của nó phải khác 0 bởi nếu định thức của nó bằng 0 thì $\\det(\\mathbf{A}) = 0$, điều này là vô lý vì vế phải của phương trình trên không thể bằng 0.\n",
    "\n",
    "7-. Nếu một ma trận tồn tại một véc tơ dòng hoặc véc tơ cột có toàn bộ các phần tử bằng 0 thì định thức của ma trận bằng 0.\n",
    "\n",
    "8-. Trong một ma trận nếu đổi vị trí của hai dòng bất kì hoặc hai cột bất kì và các vị trí còn lại dữ nguyên thì định thức đổi dấu. Tức là nếu bên dưới ta có hai ma trận vuông:\n",
    "\n",
    "$$\\mathbf{A}=\\begin{bmatrix} \n",
    "\\mathbf{A}_{1:} \\\\ \n",
    "\\dots \\\\ \n",
    "\\mathbf{A}_{i:} \\\\\n",
    "\\dots \\\\ \n",
    "\\mathbf{A}_{j:} \\\\\n",
    "\\dots \\\\ \n",
    "\\mathbf{A}_{n:} \\\\\n",
    "\\end{bmatrix} ~ \\text{and} ~ \n",
    "\\mathbf{A'}=\\begin{bmatrix} \n",
    "\\mathbf{A}_{1:} \\\\ \n",
    "\\dots \\\\ \n",
    "\\mathbf{A}_{j:} \\\\\n",
    "\\dots \\\\ \n",
    "\\mathbf{A}_{i:} \\\\\n",
    "\\dots \\\\ \n",
    "\\mathbf{A}_{n:} \\\\\n",
    "\\end{bmatrix}$$\n",
    "\n",
    "Trong đó ma trận $\\mathbf{A'}$ thu được bằng cách thay đổi vị trí dòng $\\mathbf{A}_{i:}$ cho dòng $\\mathbf{A}_{j:}$ của ma trận $\\mathbf{A}$ thì $\\det({\\mathbf{A}}) = -\\det(\\mathbf{A'})$.\n",
    "\n",
    "9-. Khi cộng vào một dòng tích của một dòng khác với hệ số $\\alpha$ hoặc cộng vào một cột với tích của một cột khác với hệ số $\\alpha$ thì định thức không đổi. \n",
    "\n",
    "10-. Khi nhân một dòng hoặc một cột bất kì của ma trận với hệ số $\\alpha$ và các dòng và cột khác giữa nguyên thì định thức của ma trận mới tăng gấp $\\alpha$ lần. Như vậy ta suy ra một tính chất khá quan trọng đối với ma trận $\\mathbf{A} \\in \\mathbb{R}^{n \\times n}$:\n",
    "\n",
    "$$\\det(\\alpha \\mathbf{A}) = \\alpha^{n} \\det(\\mathbf{A})$$"
   ]
  }
 ],
 "metadata": {
  "kernelspec": {
   "display_name": "base",
   "language": "python",
   "name": "python3"
  },
  "language_info": {
   "codemirror_mode": {
    "name": "ipython",
    "version": 3
   },
   "file_extension": ".py",
   "mimetype": "text/x-python",
   "name": "python",
   "nbconvert_exporter": "python",
   "pygments_lexer": "ipython3",
   "version": "3.9.13 (main, Aug 25 2022, 18:29:29) \n[Clang 12.0.0 ]"
  },
  "orig_nbformat": 4,
  "vscode": {
   "interpreter": {
    "hash": "772b0b0513c36abbfa3ab46b3d6e7d4324180633e97720e7a10ac42e5b0142a7"
   }
  }
 },
 "nbformat": 4,
 "nbformat_minor": 2
}
