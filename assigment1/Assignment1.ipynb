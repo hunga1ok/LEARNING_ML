{
 "cells": [
  {
   "cell_type": "code",
   "execution_count": 158,
   "metadata": {},
   "outputs": [
    {
     "name": "stdout",
     "output_type": "stream",
     "text": [
      "Successfully opened class2.txt\n"
     ]
    }
   ],
   "source": [
    "import pandas as pd\n",
    "import numpy as np\n",
    "from IPython.display import display\n",
    "try:\n",
    "    classFile = input('Enter a class file to grade (i.e. class1 for class1.txt): ')\n",
    "    df = pd.read_fwf('DataFiles/'+classFile+\".txt\", header=None)\n",
    "    print(\"Successfully opened \" + classFile + \".txt\")\n",
    "except:\n",
    "    print(\"File cannot be found \")"
   ]
  },
  {
   "cell_type": "code",
   "execution_count": 159,
   "metadata": {},
   "outputs": [
    {
     "name": "stdout",
     "output_type": "stream",
     "text": [
      "25\n",
      "25\n",
      "22\n",
      "25\n",
      "25\n",
      "25\n",
      "25\n",
      "25\n",
      "25\n",
      "25\n",
      "25\n",
      "25\n",
      "25\n",
      "25\n",
      "27\n",
      "25\n",
      "25\n",
      "25\n",
      "25\n",
      "25\n",
      "25\n",
      "25\n",
      "25\n",
      "25\n",
      "25\n"
     ]
    }
   ],
   "source": [
    "arrays = df.to_numpy().flatten()\n",
    "dict = {}\n",
    "for array in arrays:\n",
    "    listItem = array.split(\",\")\n",
    "    id = listItem.pop(0)\n",
    "    print(len(listItem))"
   ]
  },
  {
   "cell_type": "code",
   "execution_count": 160,
   "metadata": {},
   "outputs": [],
   "source": [
    "# answer_key = \"B,A,D,D,C,B,D,A,C,C,D,B,A,B,A,C,B,D,A,C,A,A,B,D,D\"\n",
    "\n",
    "# scores = []\n",
    "# sum = 0\n",
    "# totalValidLine = 0\n",
    "# totalInvalidLine = 0\n",
    "    \n",
    "# print(\"Successfully opened \" + \"class1.txt\")\n",
    "# print(\"**** ANALYZING ****\")\n",
    "# for lineNoEndline in df.values:\n",
    "#     analyzingResult = \"\"\n",
    "#     line = lineNoEndline.replace('\\n', '')\n",
    "#     listItem = line.split(',')\n",
    "#     if len(listItem) != 26:\n",
    "#         print(\"Invalid line of data: does not contain exactly 26 values:\\n\" + line, end='')\n",
    "#         analyzingResult += \"Invalid line of data: does not contain exactly 26 values:\\n\" + line\n",
    "#     elif len(listItem[0]) != 9 or (not pattern.match(listItem[0])) : \n",
    "#         print(\"Invalid line of data: N# is invalid:\\n\" + line, end='')\n",
    "#         analyzingResult += \"Invalid line of data: N# is invalid:\\n\" + line\n",
    "#     else: \n",
    "#         score = 0\n",
    "#         for i in range(len(listAnswer)):\n",
    "#             if listAnswer[i] == listItem[i+1]:\n",
    "#                 score += 4\n",
    "#             if listItem[i+1] != '' and listAnswer[i] != listItem[i+1]:\n",
    "#                 score -= 1\n",
    "#         scores.append([listItem[0], score])\n",
    "            \n",
    "#     if len(analyzingResult) != 0 : totalInvalidLine += 1 \n",
    "#     else: totalValidLine += 1\n",
    "# if totalInvalidLine == 0: print(\"No errors found!\")\n",
    "# df = pd.DataFrame(scores, columns=['id', 'score'])\n",
    "\n",
    "# print(\"**** REPORT ****\")\n",
    "# print(\"Total valid lines of data: \" + str(totalValidLine))\n",
    "# print(\"Total invalid lines of data: \" + str(totalInvalidLine))\n",
    "# print(\"Mean (average) score: %.2f\" %round(df['score'].mean(), 2))\n",
    "# print(\"Highest score: \" + str(df['score'].max()))\n",
    "# print(\"Lowest score: \" + str(df['score'].min()))\n",
    "# print(\"Range of scores: \" + str(df['score'].max()-df['score'].min()))\n",
    "# print(\"Median score: %.0f\" %round(df['score'].median()))\n",
    "# df.to_csv(os.path.join(__location__, fileName + \"_grades.txt\"), header=None, index=None)\n"
   ]
  },
  {
   "cell_type": "code",
   "execution_count": null,
   "metadata": {},
   "outputs": [],
   "source": []
  }
 ],
 "metadata": {
  "kernelspec": {
   "display_name": "Python 3.9.13 ('base')",
   "language": "python",
   "name": "python3"
  },
  "language_info": {
   "codemirror_mode": {
    "name": "ipython",
    "version": 3
   },
   "file_extension": ".py",
   "mimetype": "text/x-python",
   "name": "python",
   "nbconvert_exporter": "python",
   "pygments_lexer": "ipython3",
   "version": "3.9.13"
  },
  "orig_nbformat": 4,
  "vscode": {
   "interpreter": {
    "hash": "772b0b0513c36abbfa3ab46b3d6e7d4324180633e97720e7a10ac42e5b0142a7"
   }
  }
 },
 "nbformat": 4,
 "nbformat_minor": 2
}
