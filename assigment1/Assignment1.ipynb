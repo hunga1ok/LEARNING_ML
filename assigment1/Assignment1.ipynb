{
 "cells": [
  {
   "cell_type": "code",
   "execution_count": 2,
   "metadata": {},
   "outputs": [
    {
     "name": "stdout",
     "output_type": "stream",
     "text": [
      "Successfully opened class2.txt\n"
     ]
    }
   ],
   "source": [
    "import pandas as pd\n",
    "import numpy as np\n",
    "from IPython.display import display\n",
    "try:\n",
    "    classFile = input('Enter a class file to grade (i.e. class1 for class1.txt): ')\n",
    "    df = pd.read_fwf('DataFiles/'+classFile+\".txt\", header=None)\n",
    "    print(\"Successfully opened \" + classFile + \".txt\")\n",
    "except:\n",
    "    print(\"File cannot be found \")"
   ]
  },
  {
   "cell_type": "code",
   "execution_count": 3,
   "metadata": {},
   "outputs": [
    {
     "name": "stdout",
     "output_type": "stream",
     "text": [
      "**** ANALYZING ****\n",
      "Invalid line of data: does not contain exactly 26 values:\n",
      "N00000023,,A,D,D,C,B,D,A,C,C,,C,,B,A,C,B,D,A,C,A,A\n",
      "Invalid line of data: N# is invalid:\n",
      "N0000002,B,A,D,D,C,B,D,A,C,D,D,D,A,,A,C,D,,A,C,A,A,B,D,D\n",
      "Invalid line of data: N# is invalid:\n",
      "NA0000027,B,A,D,D,,B,,A,C,B,D,B,A,,A,C,B,D,A,,A,A,B,D,D\n",
      "Invalid line of data: does not contain exactly 26 values:\n",
      "N00000035,B,A,D,D,B,B,,A,C,,D,B,A,B,A,A,B,D,A,C,A,C,B,D,D,A,A\n",
      "**** REPORT ****\n",
      "Total valid lines of data: 21\n",
      "Total invalid lines of data: 4\n"
     ]
    }
   ],
   "source": [
    "import regex as re\n",
    "print(\"**** ANALYZING ****\")\n",
    "totalValidLine = 0\n",
    "totalInvalidLine = 0\n",
    "arrays = df.to_numpy().flatten()\n",
    "dict = {}\n",
    "rex = re.compile(\"^N[0-9]{8}$\")\n",
    "for array in arrays:\n",
    "    listItem = array.split(\",\")\n",
    "    if len(listItem) != 26:\n",
    "        print(\"Invalid line of data: does not contain exactly 26 values:\\n\" + array)\n",
    "        totalInvalidLine+=1\n",
    "        continue\n",
    "    id = listItem.pop(0)\n",
    "    if not rex.match(id):\n",
    "        print(\"Invalid line of data: N# is invalid:\\n\" + array)\n",
    "        totalInvalidLine+=1\n",
    "        continue\n",
    "    totalValidLine+=1\n",
    "\n",
    "    dict[id] = listItem\n",
    "if totalInvalidLine == 0: print(\"No errors found!\")\n",
    "print(\"**** REPORT ****\")\n",
    "print(\"Total valid lines of data: \" + str(totalValidLine))\n",
    "print(\"Total invalid lines of data: \" + str(totalInvalidLine))"
   ]
  },
  {
   "cell_type": "code",
   "execution_count": 6,
   "metadata": {},
   "outputs": [
    {
     "name": "stdout",
     "output_type": "stream",
     "text": [
      "Mean (average) score: 78.00\n",
      "Highest score: 100\n",
      "Lowest score: 66\n",
      "Range of scores: 34\n",
      "Median score: 76\n"
     ]
    }
   ],
   "source": [
    "answer_key = \"B,A,D,D,C,B,D,A,C,C,D,B,A,B,A,C,B,D,A,C,A,A,B,D,D\".split(\",\")\n",
    "scores = []\n",
    "scores_dict = {}\n",
    "for key, value in dict.items():\n",
    "    empty_answer = value.count(\"\")\n",
    "    list = np.compare_chararrays(value,answer_key, \"==\", False)\n",
    "    correct_answer = np.count_nonzero(list == True)\n",
    "    wrong_answer = np.count_nonzero(list==False) - empty_answer\n",
    "    score = correct_answer*4 - wrong_answer\n",
    "    scores.append(score)\n",
    "    scores_dict[key] = score\n",
    "\n",
    "np_scores = np.array(scores)\n",
    "\n",
    "print(\"Mean (average) score: %.2f\"  %np_scores.mean())\n",
    "print(\"Highest score: %d\" %np_scores.max())\n",
    "print(\"Lowest score: %d\" %np_scores.min())\n",
    "print(\"Range of scores: %d\" %(np_scores.max()-np_scores.min()))\n",
    "print(\"Median score: %.0f\" %np.median(np_scores))\n"
   ]
  },
  {
   "cell_type": "code",
   "execution_count": null,
   "metadata": {},
   "outputs": [
    {
     "data": {
      "text/html": [
       "<div>\n",
       "<style scoped>\n",
       "    .dataframe tbody tr th:only-of-type {\n",
       "        vertical-align: middle;\n",
       "    }\n",
       "\n",
       "    .dataframe tbody tr th {\n",
       "        vertical-align: top;\n",
       "    }\n",
       "\n",
       "    .dataframe thead th {\n",
       "        text-align: right;\n",
       "    }\n",
       "</style>\n",
       "<table border=\"1\" class=\"dataframe\">\n",
       "  <thead>\n",
       "    <tr style=\"text-align: right;\">\n",
       "      <th></th>\n",
       "      <th>score</th>\n",
       "    </tr>\n",
       "  </thead>\n",
       "  <tbody>\n",
       "    <tr>\n",
       "      <th>N00000021</th>\n",
       "      <td>68</td>\n",
       "    </tr>\n",
       "    <tr>\n",
       "      <th>N00000022</th>\n",
       "      <td>76</td>\n",
       "    </tr>\n",
       "    <tr>\n",
       "      <th>N00000024</th>\n",
       "      <td>73</td>\n",
       "    </tr>\n",
       "    <tr>\n",
       "      <th>N00000026</th>\n",
       "      <td>72</td>\n",
       "    </tr>\n",
       "    <tr>\n",
       "      <th>N00000028</th>\n",
       "      <td>73</td>\n",
       "    </tr>\n",
       "    <tr>\n",
       "      <th>N00000029</th>\n",
       "      <td>87</td>\n",
       "    </tr>\n",
       "    <tr>\n",
       "      <th>N00000030</th>\n",
       "      <td>82</td>\n",
       "    </tr>\n",
       "    <tr>\n",
       "      <th>N00000031</th>\n",
       "      <td>76</td>\n",
       "    </tr>\n",
       "    <tr>\n",
       "      <th>N00000032</th>\n",
       "      <td>87</td>\n",
       "    </tr>\n",
       "    <tr>\n",
       "      <th>N00000033</th>\n",
       "      <td>77</td>\n",
       "    </tr>\n",
       "    <tr>\n",
       "      <th>N00000034</th>\n",
       "      <td>69</td>\n",
       "    </tr>\n",
       "    <tr>\n",
       "      <th>N00000036</th>\n",
       "      <td>77</td>\n",
       "    </tr>\n",
       "    <tr>\n",
       "      <th>N00000037</th>\n",
       "      <td>75</td>\n",
       "    </tr>\n",
       "    <tr>\n",
       "      <th>N00000038</th>\n",
       "      <td>73</td>\n",
       "    </tr>\n",
       "    <tr>\n",
       "      <th>N00000039</th>\n",
       "      <td>66</td>\n",
       "    </tr>\n",
       "    <tr>\n",
       "      <th>N00000040</th>\n",
       "      <td>73</td>\n",
       "    </tr>\n",
       "    <tr>\n",
       "      <th>N00000041</th>\n",
       "      <td>91</td>\n",
       "    </tr>\n",
       "    <tr>\n",
       "      <th>N00000042</th>\n",
       "      <td>100</td>\n",
       "    </tr>\n",
       "    <tr>\n",
       "      <th>N00000043</th>\n",
       "      <td>86</td>\n",
       "    </tr>\n",
       "    <tr>\n",
       "      <th>N00000044</th>\n",
       "      <td>90</td>\n",
       "    </tr>\n",
       "    <tr>\n",
       "      <th>N00000045</th>\n",
       "      <td>67</td>\n",
       "    </tr>\n",
       "  </tbody>\n",
       "</table>\n",
       "</div>"
      ],
      "text/plain": [
       "           score\n",
       "N00000021     68\n",
       "N00000022     76\n",
       "N00000024     73\n",
       "N00000026     72\n",
       "N00000028     73\n",
       "N00000029     87\n",
       "N00000030     82\n",
       "N00000031     76\n",
       "N00000032     87\n",
       "N00000033     77\n",
       "N00000034     69\n",
       "N00000036     77\n",
       "N00000037     75\n",
       "N00000038     73\n",
       "N00000039     66\n",
       "N00000040     73\n",
       "N00000041     91\n",
       "N00000042    100\n",
       "N00000043     86\n",
       "N00000044     90\n",
       "N00000045     67"
      ]
     },
     "metadata": {},
     "output_type": "display_data"
    }
   ],
   "source": [
    "df = pd.DataFrame.from_dict(scores_dict, orient=\"index\", columns=['score'])\n",
    "df.to_csv('DataFiles/'+classFile+\"_grades.txt\", header=None)\n",
    "display(df)\n"
   ]
  }
 ],
 "metadata": {
  "kernelspec": {
   "display_name": "Python 3.9.13 ('base')",
   "language": "python",
   "name": "python3"
  },
  "language_info": {
   "codemirror_mode": {
    "name": "ipython",
    "version": 3
   },
   "file_extension": ".py",
   "mimetype": "text/x-python",
   "name": "python",
   "nbconvert_exporter": "python",
   "pygments_lexer": "ipython3",
   "version": "3.9.13"
  },
  "orig_nbformat": 4,
  "vscode": {
   "interpreter": {
    "hash": "772b0b0513c36abbfa3ab46b3d6e7d4324180633e97720e7a10ac42e5b0142a7"
   }
  }
 },
 "nbformat": 4,
 "nbformat_minor": 2
}
