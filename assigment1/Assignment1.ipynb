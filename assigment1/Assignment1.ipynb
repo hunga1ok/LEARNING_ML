{
 "cells": [
  {
   "cell_type": "code",
   "execution_count": 211,
   "metadata": {},
   "outputs": [
    {
     "name": "stdout",
     "output_type": "stream",
     "text": [
      "Successfully opened class2.txt\n"
     ]
    }
   ],
   "source": [
    "import pandas as pd\n",
    "import numpy as np\n",
    "try:\n",
    "    classFile = input('Enter a class file to grade (i.e. class1 for class1.txt): ')\n",
    "    df = pd.read_fwf('DataFiles/'+classFile+\".txt\", names=[\"RawData\"])\n",
    "    print(\"Successfully opened \" + classFile + \".txt\")\n",
    "except:\n",
    "    print(\"File cannot be found \")"
   ]
  },
  {
   "cell_type": "code",
   "execution_count": 212,
   "metadata": {},
   "outputs": [
    {
     "name": "stdout",
     "output_type": "stream",
     "text": [
      "**** ANALYZING ****\n"
     ]
    }
   ],
   "source": [
    "import regex as re\n",
    "rex = re.compile(\"^N[0-9]{8}$\")\n",
    "print(\"**** ANALYZING ****\")\n",
    "    \n",
    "def checkValid(rawData):\n",
    "    listItem = rawData.split(\",\")\n",
    "    if len(listItem) != 26:\n",
    "        print(\"Invalid line of data: does not contain exactly 26 values:\\n\" + rawData)\n",
    "        return False\n",
    "    id = listItem[0]\n",
    "    if not rex.match(id):\n",
    "        print(\"Invalid line of data: N# is invalid:\\n\" + rawData)\n",
    "        return False\n",
    "    return True"
   ]
  },
  {
   "cell_type": "code",
   "execution_count": 213,
   "metadata": {},
   "outputs": [
    {
     "name": "stdout",
     "output_type": "stream",
     "text": [
      "Invalid line of data: does not contain exactly 26 values:\n",
      "N00000023,,A,D,D,C,B,D,A,C,C,,C,,B,A,C,B,D,A,C,A,A\n",
      "Invalid line of data: N# is invalid:\n",
      "N0000002,B,A,D,D,C,B,D,A,C,D,D,D,A,,A,C,D,,A,C,A,A,B,D,D\n",
      "Invalid line of data: N# is invalid:\n",
      "NA0000027,B,A,D,D,,B,,A,C,B,D,B,A,,A,C,B,D,A,,A,A,B,D,D\n",
      "Invalid line of data: does not contain exactly 26 values:\n",
      "N00000035,B,A,D,D,B,B,,A,C,,D,B,A,B,A,A,B,D,A,C,A,C,B,D,D,A,A\n"
     ]
    }
   ],
   "source": [
    "df[\"isValid\"] = df['RawData'].apply(checkValid)"
   ]
  },
  {
   "cell_type": "code",
   "execution_count": 214,
   "metadata": {},
   "outputs": [
    {
     "data": {
      "text/html": [
       "<div>\n",
       "<style scoped>\n",
       "    .dataframe tbody tr th:only-of-type {\n",
       "        vertical-align: middle;\n",
       "    }\n",
       "\n",
       "    .dataframe tbody tr th {\n",
       "        vertical-align: top;\n",
       "    }\n",
       "\n",
       "    .dataframe thead th {\n",
       "        text-align: right;\n",
       "    }\n",
       "</style>\n",
       "<table border=\"1\" class=\"dataframe\">\n",
       "  <thead>\n",
       "    <tr style=\"text-align: right;\">\n",
       "      <th></th>\n",
       "      <th>RawData</th>\n",
       "      <th>isValid</th>\n",
       "    </tr>\n",
       "  </thead>\n",
       "  <tbody>\n",
       "    <tr>\n",
       "      <th>0</th>\n",
       "      <td>N00000021,B,A,C,D,C,C,D,D,C,C,D,B,,B,A,C,B,,A,...</td>\n",
       "      <td>True</td>\n",
       "    </tr>\n",
       "    <tr>\n",
       "      <th>1</th>\n",
       "      <td>N00000022,B,A,D,A,C,B,D,D,C,C,D,B,A,B,A,,B,A,A...</td>\n",
       "      <td>True</td>\n",
       "    </tr>\n",
       "    <tr>\n",
       "      <th>2</th>\n",
       "      <td>N00000023,,A,D,D,C,B,D,A,C,C,,C,,B,A,C,B,D,A,C...</td>\n",
       "      <td>False</td>\n",
       "    </tr>\n",
       "    <tr>\n",
       "      <th>3</th>\n",
       "      <td>N00000024,C,C,D,D,C,B,,A,C,C,D,B,A,B,,C,B,D,A,...</td>\n",
       "      <td>True</td>\n",
       "    </tr>\n",
       "    <tr>\n",
       "      <th>4</th>\n",
       "      <td>N0000002,B,A,D,D,C,B,D,A,C,D,D,D,A,,A,C,D,,A,C...</td>\n",
       "      <td>False</td>\n",
       "    </tr>\n",
       "  </tbody>\n",
       "</table>\n",
       "</div>"
      ],
      "text/plain": [
       "                                             RawData  isValid\n",
       "0  N00000021,B,A,C,D,C,C,D,D,C,C,D,B,,B,A,C,B,,A,...     True\n",
       "1  N00000022,B,A,D,A,C,B,D,D,C,C,D,B,A,B,A,,B,A,A...     True\n",
       "2  N00000023,,A,D,D,C,B,D,A,C,C,,C,,B,A,C,B,D,A,C...    False\n",
       "3  N00000024,C,C,D,D,C,B,,A,C,C,D,B,A,B,,C,B,D,A,...     True\n",
       "4  N0000002,B,A,D,D,C,B,D,A,C,D,D,D,A,,A,C,D,,A,C...    False"
      ]
     },
     "execution_count": 214,
     "metadata": {},
     "output_type": "execute_result"
    }
   ],
   "source": [
    "\n",
    "df.head()"
   ]
  },
  {
   "cell_type": "code",
   "execution_count": 215,
   "metadata": {},
   "outputs": [
    {
     "name": "stdout",
     "output_type": "stream",
     "text": [
      "**** REPORT ****\n",
      "Total valid lines of data: 21\n",
      "Total invalid lines of data: 4\n"
     ]
    }
   ],
   "source": [
    "print(\"**** REPORT ****\")\n",
    "\n",
    "valid_col = df['isValid']\n",
    "print(\"Total valid lines of data: %d\" %valid_col.loc[valid_col == True].count())\n",
    "print(\"Total invalid lines of data: %s\" %valid_col.loc[valid_col == False].count())"
   ]
  },
  {
   "cell_type": "code",
   "execution_count": 216,
   "metadata": {},
   "outputs": [],
   "source": [
    "def getIdOnly(raw):\n",
    "    id = raw.split(',').pop(0)\n",
    "    return id"
   ]
  },
  {
   "cell_type": "code",
   "execution_count": 217,
   "metadata": {},
   "outputs": [
    {
     "data": {
      "text/html": [
       "<div>\n",
       "<style scoped>\n",
       "    .dataframe tbody tr th:only-of-type {\n",
       "        vertical-align: middle;\n",
       "    }\n",
       "\n",
       "    .dataframe tbody tr th {\n",
       "        vertical-align: top;\n",
       "    }\n",
       "\n",
       "    .dataframe thead th {\n",
       "        text-align: right;\n",
       "    }\n",
       "</style>\n",
       "<table border=\"1\" class=\"dataframe\">\n",
       "  <thead>\n",
       "    <tr style=\"text-align: right;\">\n",
       "      <th></th>\n",
       "      <th>RawData</th>\n",
       "      <th>isValid</th>\n",
       "    </tr>\n",
       "  </thead>\n",
       "  <tbody>\n",
       "    <tr>\n",
       "      <th>0</th>\n",
       "      <td>N00000021,B,A,C,D,C,C,D,D,C,C,D,B,,B,A,C,B,,A,...</td>\n",
       "      <td>True</td>\n",
       "    </tr>\n",
       "    <tr>\n",
       "      <th>1</th>\n",
       "      <td>N00000022,B,A,D,A,C,B,D,D,C,C,D,B,A,B,A,,B,A,A...</td>\n",
       "      <td>True</td>\n",
       "    </tr>\n",
       "    <tr>\n",
       "      <th>3</th>\n",
       "      <td>N00000024,C,C,D,D,C,B,,A,C,C,D,B,A,B,,C,B,D,A,...</td>\n",
       "      <td>True</td>\n",
       "    </tr>\n",
       "    <tr>\n",
       "      <th>5</th>\n",
       "      <td>N00000026,B,C,D,D,C,D,B,A,C,D,D,,A,B,A,C,B,D,,...</td>\n",
       "      <td>True</td>\n",
       "    </tr>\n",
       "    <tr>\n",
       "      <th>7</th>\n",
       "      <td>N00000028,B,A,D,D,D,B,D,A,C,C,,,A,B,A,,B,D,C,C...</td>\n",
       "      <td>True</td>\n",
       "    </tr>\n",
       "  </tbody>\n",
       "</table>\n",
       "</div>"
      ],
      "text/plain": [
       "                                             RawData  isValid\n",
       "0  N00000021,B,A,C,D,C,C,D,D,C,C,D,B,,B,A,C,B,,A,...     True\n",
       "1  N00000022,B,A,D,A,C,B,D,D,C,C,D,B,A,B,A,,B,A,A...     True\n",
       "3  N00000024,C,C,D,D,C,B,,A,C,C,D,B,A,B,,C,B,D,A,...     True\n",
       "5  N00000026,B,C,D,D,C,D,B,A,C,D,D,,A,B,A,C,B,D,,...     True\n",
       "7  N00000028,B,A,D,D,D,B,D,A,C,C,,,A,B,A,,B,D,C,C...     True"
      ]
     },
     "execution_count": 217,
     "metadata": {},
     "output_type": "execute_result"
    }
   ],
   "source": [
    "df = df.loc[df['isValid'] == True]\n",
    "df.head()\n"
   ]
  },
  {
   "cell_type": "code",
   "execution_count": 218,
   "metadata": {},
   "outputs": [],
   "source": [
    "answer_key = \"B,A,D,D,C,B,D,A,C,C,D,B,A,B,A,C,B,D,A,C,A,A,B,D,D\".split(\",\")\n",
    "def getScore(raw):\n",
    "    list = raw.split(',')\n",
    "    list.pop(0)\n",
    "    empty_answer = list.count(\"\")\n",
    "    result = np.compare_chararrays(list,answer_key, \"==\", False)\n",
    "    correct_answer = np.count_nonzero(result == True)\n",
    "    wrong_answer = np.count_nonzero(result==False) - empty_answer\n",
    "    score = correct_answer*4 - wrong_answer\n",
    "    return score"
   ]
  },
  {
   "cell_type": "code",
   "execution_count": 219,
   "metadata": {},
   "outputs": [
    {
     "data": {
      "text/html": [
       "<div>\n",
       "<style scoped>\n",
       "    .dataframe tbody tr th:only-of-type {\n",
       "        vertical-align: middle;\n",
       "    }\n",
       "\n",
       "    .dataframe tbody tr th {\n",
       "        vertical-align: top;\n",
       "    }\n",
       "\n",
       "    .dataframe thead th {\n",
       "        text-align: right;\n",
       "    }\n",
       "</style>\n",
       "<table border=\"1\" class=\"dataframe\">\n",
       "  <thead>\n",
       "    <tr style=\"text-align: right;\">\n",
       "      <th></th>\n",
       "      <th>RawData</th>\n",
       "      <th>isValid</th>\n",
       "      <th>id</th>\n",
       "      <th>score</th>\n",
       "    </tr>\n",
       "  </thead>\n",
       "  <tbody>\n",
       "    <tr>\n",
       "      <th>0</th>\n",
       "      <td>N00000021,B,A,C,D,C,C,D,D,C,C,D,B,,B,A,C,B,,A,...</td>\n",
       "      <td>True</td>\n",
       "      <td>N00000021</td>\n",
       "      <td>68</td>\n",
       "    </tr>\n",
       "    <tr>\n",
       "      <th>1</th>\n",
       "      <td>N00000022,B,A,D,A,C,B,D,D,C,C,D,B,A,B,A,,B,A,A...</td>\n",
       "      <td>True</td>\n",
       "      <td>N00000022</td>\n",
       "      <td>76</td>\n",
       "    </tr>\n",
       "    <tr>\n",
       "      <th>3</th>\n",
       "      <td>N00000024,C,C,D,D,C,B,,A,C,C,D,B,A,B,,C,B,D,A,...</td>\n",
       "      <td>True</td>\n",
       "      <td>N00000024</td>\n",
       "      <td>73</td>\n",
       "    </tr>\n",
       "    <tr>\n",
       "      <th>5</th>\n",
       "      <td>N00000026,B,C,D,D,C,D,B,A,C,D,D,,A,B,A,C,B,D,,...</td>\n",
       "      <td>True</td>\n",
       "      <td>N00000026</td>\n",
       "      <td>72</td>\n",
       "    </tr>\n",
       "    <tr>\n",
       "      <th>7</th>\n",
       "      <td>N00000028,B,A,D,D,D,B,D,A,C,C,,,A,B,A,,B,D,C,C...</td>\n",
       "      <td>True</td>\n",
       "      <td>N00000028</td>\n",
       "      <td>73</td>\n",
       "    </tr>\n",
       "  </tbody>\n",
       "</table>\n",
       "</div>"
      ],
      "text/plain": [
       "                                             RawData  isValid         id  \\\n",
       "0  N00000021,B,A,C,D,C,C,D,D,C,C,D,B,,B,A,C,B,,A,...     True  N00000021   \n",
       "1  N00000022,B,A,D,A,C,B,D,D,C,C,D,B,A,B,A,,B,A,A...     True  N00000022   \n",
       "3  N00000024,C,C,D,D,C,B,,A,C,C,D,B,A,B,,C,B,D,A,...     True  N00000024   \n",
       "5  N00000026,B,C,D,D,C,D,B,A,C,D,D,,A,B,A,C,B,D,,...     True  N00000026   \n",
       "7  N00000028,B,A,D,D,D,B,D,A,C,C,,,A,B,A,,B,D,C,C...     True  N00000028   \n",
       "\n",
       "   score  \n",
       "0     68  \n",
       "1     76  \n",
       "3     73  \n",
       "5     72  \n",
       "7     73  "
      ]
     },
     "execution_count": 219,
     "metadata": {},
     "output_type": "execute_result"
    }
   ],
   "source": [
    "df['id'] = df['RawData'].apply(getIdOnly)\n",
    "df['score'] = df['RawData'].apply(getScore)\n",
    "df.head()"
   ]
  },
  {
   "cell_type": "code",
   "execution_count": 220,
   "metadata": {},
   "outputs": [
    {
     "name": "stdout",
     "output_type": "stream",
     "text": [
      "Mean (average) score: 78.00\n",
      "Highest score: 100\n",
      "Lowest score: 66\n",
      "Range of scores: 34\n",
      "Median score: 76\n"
     ]
    }
   ],
   "source": [
    "score_row = df['score']\n",
    "print(\"Mean (average) score: %.2f\"  %score_row.mean())\n",
    "print(\"Highest score: %d\" %score_row.max())\n",
    "print(\"Lowest score: %d\" %score_row.min())\n",
    "print(\"Range of scores: %d\" %(score_row.max()-score_row.min()))\n",
    "print(\"Median score: %.0f\" %score_row.median())"
   ]
  },
  {
   "cell_type": "code",
   "execution_count": 221,
   "metadata": {},
   "outputs": [
    {
     "data": {
      "text/html": [
       "<div>\n",
       "<style scoped>\n",
       "    .dataframe tbody tr th:only-of-type {\n",
       "        vertical-align: middle;\n",
       "    }\n",
       "\n",
       "    .dataframe tbody tr th {\n",
       "        vertical-align: top;\n",
       "    }\n",
       "\n",
       "    .dataframe thead th {\n",
       "        text-align: right;\n",
       "    }\n",
       "</style>\n",
       "<table border=\"1\" class=\"dataframe\">\n",
       "  <thead>\n",
       "    <tr style=\"text-align: right;\">\n",
       "      <th></th>\n",
       "      <th>id</th>\n",
       "      <th>score</th>\n",
       "    </tr>\n",
       "  </thead>\n",
       "  <tbody>\n",
       "    <tr>\n",
       "      <th>0</th>\n",
       "      <td>N00000021</td>\n",
       "      <td>68</td>\n",
       "    </tr>\n",
       "    <tr>\n",
       "      <th>1</th>\n",
       "      <td>N00000022</td>\n",
       "      <td>76</td>\n",
       "    </tr>\n",
       "    <tr>\n",
       "      <th>3</th>\n",
       "      <td>N00000024</td>\n",
       "      <td>73</td>\n",
       "    </tr>\n",
       "    <tr>\n",
       "      <th>5</th>\n",
       "      <td>N00000026</td>\n",
       "      <td>72</td>\n",
       "    </tr>\n",
       "    <tr>\n",
       "      <th>7</th>\n",
       "      <td>N00000028</td>\n",
       "      <td>73</td>\n",
       "    </tr>\n",
       "    <tr>\n",
       "      <th>8</th>\n",
       "      <td>N00000029</td>\n",
       "      <td>87</td>\n",
       "    </tr>\n",
       "    <tr>\n",
       "      <th>9</th>\n",
       "      <td>N00000030</td>\n",
       "      <td>82</td>\n",
       "    </tr>\n",
       "    <tr>\n",
       "      <th>10</th>\n",
       "      <td>N00000031</td>\n",
       "      <td>76</td>\n",
       "    </tr>\n",
       "    <tr>\n",
       "      <th>11</th>\n",
       "      <td>N00000032</td>\n",
       "      <td>87</td>\n",
       "    </tr>\n",
       "    <tr>\n",
       "      <th>12</th>\n",
       "      <td>N00000033</td>\n",
       "      <td>77</td>\n",
       "    </tr>\n",
       "    <tr>\n",
       "      <th>13</th>\n",
       "      <td>N00000034</td>\n",
       "      <td>69</td>\n",
       "    </tr>\n",
       "    <tr>\n",
       "      <th>15</th>\n",
       "      <td>N00000036</td>\n",
       "      <td>77</td>\n",
       "    </tr>\n",
       "    <tr>\n",
       "      <th>16</th>\n",
       "      <td>N00000037</td>\n",
       "      <td>75</td>\n",
       "    </tr>\n",
       "    <tr>\n",
       "      <th>17</th>\n",
       "      <td>N00000038</td>\n",
       "      <td>73</td>\n",
       "    </tr>\n",
       "    <tr>\n",
       "      <th>18</th>\n",
       "      <td>N00000039</td>\n",
       "      <td>66</td>\n",
       "    </tr>\n",
       "    <tr>\n",
       "      <th>19</th>\n",
       "      <td>N00000040</td>\n",
       "      <td>73</td>\n",
       "    </tr>\n",
       "    <tr>\n",
       "      <th>20</th>\n",
       "      <td>N00000041</td>\n",
       "      <td>91</td>\n",
       "    </tr>\n",
       "    <tr>\n",
       "      <th>21</th>\n",
       "      <td>N00000042</td>\n",
       "      <td>100</td>\n",
       "    </tr>\n",
       "    <tr>\n",
       "      <th>22</th>\n",
       "      <td>N00000043</td>\n",
       "      <td>86</td>\n",
       "    </tr>\n",
       "    <tr>\n",
       "      <th>23</th>\n",
       "      <td>N00000044</td>\n",
       "      <td>90</td>\n",
       "    </tr>\n",
       "    <tr>\n",
       "      <th>24</th>\n",
       "      <td>N00000045</td>\n",
       "      <td>67</td>\n",
       "    </tr>\n",
       "  </tbody>\n",
       "</table>\n",
       "</div>"
      ],
      "text/plain": [
       "           id  score\n",
       "0   N00000021     68\n",
       "1   N00000022     76\n",
       "3   N00000024     73\n",
       "5   N00000026     72\n",
       "7   N00000028     73\n",
       "8   N00000029     87\n",
       "9   N00000030     82\n",
       "10  N00000031     76\n",
       "11  N00000032     87\n",
       "12  N00000033     77\n",
       "13  N00000034     69\n",
       "15  N00000036     77\n",
       "16  N00000037     75\n",
       "17  N00000038     73\n",
       "18  N00000039     66\n",
       "19  N00000040     73\n",
       "20  N00000041     91\n",
       "21  N00000042    100\n",
       "22  N00000043     86\n",
       "23  N00000044     90\n",
       "24  N00000045     67"
      ]
     },
     "execution_count": 221,
     "metadata": {},
     "output_type": "execute_result"
    }
   ],
   "source": [
    "print_df = df[['id', 'score']]\n",
    "print_df.to_csv('DataFiles/'+classFile+\"_grades.txt\", header=None, index=None)\n",
    "print_df\n"
   ]
  }
 ],
 "metadata": {
  "kernelspec": {
   "display_name": "Python 3.9.13 ('base')",
   "language": "python",
   "name": "python3"
  },
  "language_info": {
   "codemirror_mode": {
    "name": "ipython",
    "version": 3
   },
   "file_extension": ".py",
   "mimetype": "text/x-python",
   "name": "python",
   "nbconvert_exporter": "python",
   "pygments_lexer": "ipython3",
   "version": "3.9.13"
  },
  "orig_nbformat": 4,
  "vscode": {
   "interpreter": {
    "hash": "772b0b0513c36abbfa3ab46b3d6e7d4324180633e97720e7a10ac42e5b0142a7"
   }
  }
 },
 "nbformat": 4,
 "nbformat_minor": 2
}
