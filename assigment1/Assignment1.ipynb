{
 "cells": [
  {
   "cell_type": "code",
   "execution_count": null,
   "metadata": {},
   "outputs": [],
   "source": [
    "import os\n",
    "directory = os.getcwd() + \"/DataFiles/\"\n",
    "classFile = input('Enter a class file to grade (i.e. class1 for class1.txt): ')\n",
    "try:\n",
    "    path = directory + classFile + \".txt\"\n",
    "    file = open(path)\n",
    "    print(\"Successfully opened \" + classFile + \".txt\")\n",
    "\n",
    "except:\n",
    "    print(\"File cannot be found \")"
   ]
  },
  {
   "cell_type": "code",
   "execution_count": 1,
   "metadata": {},
   "outputs": [
    {
     "ename": "ModuleNotFoundError",
     "evalue": "No module named 'numpy'",
     "output_type": "error",
     "traceback": [
      "\u001b[0;31m---------------------------------------------------------------------------\u001b[0m",
      "\u001b[0;31mModuleNotFoundError\u001b[0m                       Traceback (most recent call last)",
      "Cell \u001b[0;32mIn [1], line 2\u001b[0m\n\u001b[1;32m      1\u001b[0m \u001b[39mimport\u001b[39;00m \u001b[39mos\u001b[39;00m\n\u001b[0;32m----> 2\u001b[0m \u001b[39mimport\u001b[39;00m \u001b[39mnumpy\u001b[39;00m \u001b[39mas\u001b[39;00m \u001b[39mnp\u001b[39;00m\n\u001b[1;32m      3\u001b[0m \u001b[39mimport\u001b[39;00m \u001b[39mre\u001b[39;00m\n\u001b[1;32m      5\u001b[0m pattern \u001b[39m=\u001b[39m re\u001b[39m.\u001b[39mcompile(\u001b[39m\"\u001b[39m\u001b[39m^N[0-9]\u001b[39m\u001b[39m{8}\u001b[39;00m\u001b[39m\"\u001b[39m)\n",
      "\u001b[0;31mModuleNotFoundError\u001b[0m: No module named 'numpy'"
     ]
    }
   ],
   "source": [
    "import os\n",
    "import numpy as np\n",
    "import re\n",
    "\n",
    "pattern = re.compile(\"^N[0-9]{8}\")\n",
    "__location__ = os.getcwd() + \"/DataFiles/\"\n",
    "\n",
    "isLooping = True\n",
    "\n",
    "while isLooping:\n",
    "    \n",
    "    fileName = input('Enter a class file to grade (i.e. class1 for class1.txt): ')\n",
    "    try:\n",
    "        totalValidLine = 0\n",
    "        totalInvalidLine = 0\n",
    "        \n",
    "        file = open(os.path.join(__location__, fileName + \".txt\"))\n",
    "        print(\"Successfully opened \" + \"class1.txt\")\n",
    "        print(\"**** ANALYZING ****\")\n",
    "        for line in file:\n",
    "            analyzingResult = \"\"\n",
    "            listItem = line.split(',')\n",
    "            if len(listItem) != 26:\n",
    "                print(\"Invalid line of data: does not contain exactly 26 values:\\n\" + line, end='')\n",
    "                analyzingResult += \"Invalid line of data: does not contain exactly 26 values:\\n\" + line\n",
    "            elif len(listItem[0]) != 9 or (not pattern.match(listItem[0])) : \n",
    "                print(\"Invalid line of data: N# is invalid:\\n\" + line, end='')\n",
    "                analyzingResult += \"Invalid line of data: N# is invalid:\\n\" + line\n",
    "            \n",
    "            if len(analyzingResult) != 0 : totalInvalidLine += 1 \n",
    "            else: totalValidLine += 1\n",
    "        if totalInvalidLine == 0: print(\"No errors found!\")\n",
    "        print(\"**** REPORT ****\")\n",
    "        print(\"Total valid lines of data: \" + str(totalValidLine))\n",
    "        print(\"Total invalid lines of data: \" + str(totalInvalidLine))\n",
    "        break\n",
    "    except:\n",
    "        print(\"File cannot be found \")\n"
   ]
  }
 ],
 "metadata": {
  "kernelspec": {
   "display_name": "Python 3.11.0 64-bit",
   "language": "python",
   "name": "python3"
  },
  "language_info": {
   "codemirror_mode": {
    "name": "ipython",
    "version": 3
   },
   "file_extension": ".py",
   "mimetype": "text/x-python",
   "name": "python",
   "nbconvert_exporter": "python",
   "pygments_lexer": "ipython3",
   "version": "3.11.0"
  },
  "orig_nbformat": 4,
  "vscode": {
   "interpreter": {
    "hash": "aee8b7b246df8f9039afb4144a1f6fd8d2ca17a180786b69acc140d282b71a49"
   }
  }
 },
 "nbformat": 4,
 "nbformat_minor": 2
}
