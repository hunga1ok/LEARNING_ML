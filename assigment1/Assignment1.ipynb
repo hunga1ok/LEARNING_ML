{
 "cells": [
  {
   "cell_type": "code",
   "execution_count": 1,
   "metadata": {},
   "outputs": [
    {
     "name": "stdout",
     "output_type": "stream",
     "text": [
      "Successfully opened class1.txt\n"
     ]
    }
   ],
   "source": [
    "import os\n",
    "directory = os.getcwd() + \"/DataFiles/\"\n",
    "classFile = input('Enter a class file to grade (i.e. class1 for class1.txt): ')\n",
    "try:\n",
    "    path = directory + classFile + \".txt\"\n",
    "    file = open(path)\n",
    "    print(\"Successfully opened \" + classFile + \".txt\")\n",
    "\n",
    "except:\n",
    "    print(\"File cannot be found \")"
   ]
  },
  {
   "cell_type": "code",
   "execution_count": 36,
   "metadata": {},
   "outputs": [
    {
     "name": "stdout",
     "output_type": "stream",
     "text": [
      "Successfully opened class1.txt\n",
      "**** ANALYZING ****\n",
      "Invalid line of data: does not contain exactly 26 values:\n",
      "N00000023,,A,D,D,C,B,D,A,C,C,,C,,B,A,C,B,D,A,C,A,AInvalid line of data: N# is invalid:\n",
      "N0000002,B,A,D,D,C,B,D,A,C,D,D,D,A,,A,C,D,,A,C,A,A,B,D,DInvalid line of data: N# is invalid:\n",
      "NA0000027,B,A,D,D,,B,,A,C,B,D,B,A,,A,C,B,D,A,,A,A,B,D,DInvalid line of data: does not contain exactly 26 values:\n",
      "N00000035,B,A,D,D,B,B,,A,C,,D,B,A,B,A,A,B,D,A,C,A,C,B,D,D,A,A**** REPORT ****\n",
      "Total valid lines of data: 21\n",
      "Total invalid lines of data: 4\n",
      "Mean (average) score: 78.00\n",
      "Highest score: 100\n",
      "Lowest score: 66\n",
      "Range of scores: 34\n",
      "Median score: 76\n"
     ]
    }
   ],
   "source": [
    "import os\n",
    "import re\n",
    "import pandas as pd\n",
    "\n",
    "pattern = re.compile(\"^N[0-9]{8}\")\n",
    "__location__ = os.getcwd() + \"/DataFiles/\"\n",
    "answer_key = \"B,A,D,D,C,B,D,A,C,C,D,B,A,B,A,C,B,D,A,C,A,A,B,D,D\"\n",
    "listAnswer = answer_key.split(',')\n",
    "\n",
    "isLooping = True\n",
    "\n",
    "while isLooping:\n",
    "    scores = []\n",
    "    sum = 0\n",
    "    fileName = input('Enter a class file to grade (i.e. class1 for class1.txt): ')\n",
    "    try:\n",
    "        totalValidLine = 0\n",
    "        totalInvalidLine = 0\n",
    "        \n",
    "        file = open(os.path.join(__location__, fileName + \".txt\"))\n",
    "        print(\"Successfully opened \" + \"class1.txt\")\n",
    "        print(\"**** ANALYZING ****\")\n",
    "        for lineNoEndline in file:\n",
    "            analyzingResult = \"\"\n",
    "            line = lineNoEndline.replace('\\n', '')\n",
    "            listItem = line.split(',')\n",
    "            if len(listItem) != 26:\n",
    "                print(\"Invalid line of data: does not contain exactly 26 values:\\n\" + line, end='')\n",
    "                analyzingResult += \"Invalid line of data: does not contain exactly 26 values:\\n\" + line\n",
    "            elif len(listItem[0]) != 9 or (not pattern.match(listItem[0])) : \n",
    "                print(\"Invalid line of data: N# is invalid:\\n\" + line, end='')\n",
    "                analyzingResult += \"Invalid line of data: N# is invalid:\\n\" + line\n",
    "            else: \n",
    "                score = 0\n",
    "                for i in range(len(listAnswer)):\n",
    "                    if listAnswer[i] == listItem[i+1]:\n",
    "                        score += 4\n",
    "                    if listItem[i+1] != '' and listAnswer[i] != listItem[i+1]:\n",
    "                        score -= 1\n",
    "                scores.append([listItem[0], score])\n",
    "                    \n",
    "            if len(analyzingResult) != 0 : totalInvalidLine += 1 \n",
    "            else: totalValidLine += 1\n",
    "        if totalInvalidLine == 0: print(\"No errors found!\")\n",
    "        df = pd.DataFrame(scores, columns=['id', 'score'])\n",
    "\n",
    "        print(\"**** REPORT ****\")\n",
    "        print(\"Total valid lines of data: \" + str(totalValidLine))\n",
    "        print(\"Total invalid lines of data: \" + str(totalInvalidLine))\n",
    "        print(\"Mean (average) score: %.2f\" %round(df['score'].mean(), 2))\n",
    "        print(\"Highest score: \" + str(df['score'].max()))\n",
    "        print(\"Lowest score: \" + str(df['score'].min()))\n",
    "        print(\"Range of scores: \" + str(df['score'].max()-df['score'].min()))\n",
    "        print(\"Median score: %.0f\" %round(df['score'].median()))\n",
    "        df.to_csv(os.path.join(__location__, fileName + \"_grades.txt\"), header=None, index=None)\n",
    "        \n",
    "        break\n",
    "    except:\n",
    "        print(\"File cannot be found\")\n"
   ]
  },
  {
   "cell_type": "code",
   "execution_count": null,
   "metadata": {},
   "outputs": [],
   "source": []
  }
 ],
 "metadata": {
  "kernelspec": {
   "display_name": "Python 3.9.13 ('base')",
   "language": "python",
   "name": "python3"
  },
  "language_info": {
   "codemirror_mode": {
    "name": "ipython",
    "version": 3
   },
   "file_extension": ".py",
   "mimetype": "text/x-python",
   "name": "python",
   "nbconvert_exporter": "python",
   "pygments_lexer": "ipython3",
   "version": "3.9.13"
  },
  "orig_nbformat": 4,
  "vscode": {
   "interpreter": {
    "hash": "772b0b0513c36abbfa3ab46b3d6e7d4324180633e97720e7a10ac42e5b0142a7"
   }
  }
 },
 "nbformat": 4,
 "nbformat_minor": 2
}
